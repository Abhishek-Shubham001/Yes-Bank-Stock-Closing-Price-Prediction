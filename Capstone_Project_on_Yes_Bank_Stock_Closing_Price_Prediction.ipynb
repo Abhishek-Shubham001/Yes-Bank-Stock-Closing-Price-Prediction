{
  "cells": [
    {
      "cell_type": "markdown",
      "metadata": {
        "id": "view-in-github",
        "colab_type": "text"
      },
      "source": [
        "<a href=\"https://colab.research.google.com/github/Abhishek-Shubham001/Yes-Bank-Stock-Closing-Price-Prediction/blob/main/Capstone_Project_on_Yes_Bank_Stock_Closing_Price_Prediction.ipynb\" target=\"_parent\"><img src=\"https://colab.research.google.com/assets/colab-badge.svg\" alt=\"Open In Colab\"/></a>"
      ]
    },
    {
      "cell_type": "markdown",
      "metadata": {
        "id": "ywfy_IW5oO-f"
      },
      "source": [
        "#**Problem Statement**"
      ]
    },
    {
      "cell_type": "markdown",
      "metadata": {
        "id": "78zs9dixuwLt"
      },
      "source": [
        "-----------------------------------------------------------------------------\n",
        "##**Yes Bank is a well-known bank in the Indian financial domain. Since 2018, it has been in the news because of the fraud case involving Rana Kapoor. Owing to this fact, it was interesting to see how that impacted the stock prices of the company and whether Time series models or any other predictive models can do justice to such situations. This dataset has monthly stock prices of the bank since its inception and includes closing, starting, highest, and lowest stock prices of every month. The main objective is to predict the stock’s closing price of the month.**\n",
        "-----------------------------------------------------------------------------"
      ]
    },
    {
      "cell_type": "markdown",
      "metadata": {
        "id": "8ARSA1dCu1Wu"
      },
      "source": [
        "#**Introduction**"
      ]
    },
    {
      "cell_type": "markdown",
      "metadata": {
        "id": "BCAIuDw-vUky"
      },
      "source": [
        "##**What is a Stock?**\n",
        "\n",
        "\n",
        "### A Stock or share (also known as a company’s 'equity') is a financial instrument that represents ownership in a company. Units of stock are called \"shares.\" Stocks are bought and sold predominantly on stock exchanges, though there can be private sales as well, and are the foundation of many individual investors' portfolios.\n",
        "\n",
        "\n",
        "\n"
      ]
    },
    {
      "cell_type": "markdown",
      "metadata": {
        "id": "mVN6MngHw15f"
      },
      "source": [
        "---\n",
        "\n",
        "\n",
        "###The dataset of YES BANK has monthly stock prices of the bank since its inception and includes closing, starting, highest, and lowest stock prices of every month of around 180 observations. It contains the following features:\n",
        "\n",
        "### 1. **Date**: It denotes date of investment done (in our case we have month and year).\n",
        "\n",
        "### 2. **Open**: The opening price is the price at which a security first trades upon the opening of an exchange on a trading day i.e. buyers and sellers meet to make deals with the highest bidder, the opening price may not have to be the same as the last day's closing price.\n",
        "\n",
        "### 3. **High**: The high is the highest price at which a stock traded during a period.\n",
        "\n",
        "### 4. **Low**: The low is the lowest price at which a stock traded during a period.\n",
        "\n",
        "### 5. **Close**: Close refers to the price of an individual stock when the stock exchange closed for the day.\n",
        "\n",
        "\n",
        "---\n"
      ]
    },
    {
      "cell_type": "markdown",
      "metadata": {
        "id": "aftV4rUr3nNH"
      },
      "source": [
        "##Importing and Loading data"
      ]
    },
    {
      "cell_type": "code",
      "execution_count": 91,
      "metadata": {
        "id": "hIEcjuQg5Q07"
      },
      "outputs": [],
      "source": [
        "#Importing libraries\n",
        "import pandas as pd\n",
        "import numpy as np\n",
        "import matplotlib.pyplot as plt\n",
        "import seaborn as sns\n",
        "\n",
        "from scipy.stats import zscore\n",
        "from sklearn.model_selection import train_test_split\n",
        "from sklearn.linear_model import LinearRegression\n",
        "\n",
        "#Model Evaluation \n",
        "from sklearn.metrics import r2_score\n",
        "from sklearn.metrics import mean_squared_error\n",
        "from sklearn.metrics import mean_absolute_percentage_error"
      ]
    },
    {
      "cell_type": "code",
      "execution_count": 2,
      "metadata": {
        "id": "2a9mjNs_5T4_"
      },
      "outputs": [],
      "source": [
        "#Importing 'Yest Bank' Data Set\n",
        "\n",
        "stock_df= pd.read_csv('/content/drive/MyDrive/Almabetter/Capstone Projects/Yes Bank Stock Closing Price Prediction- Abhishek Shubham/data_YesBank_StockPrices.csv')"
      ]
    },
    {
      "cell_type": "markdown",
      "metadata": {
        "id": "PPcjchWi5z5_"
      },
      "source": [
        "## Exploring Data Frame"
      ]
    },
    {
      "cell_type": "code",
      "execution_count": 3,
      "metadata": {
        "colab": {
          "base_uri": "https://localhost:8080/",
          "height": 206
        },
        "id": "9CpL5Ju76LVv",
        "outputId": "f78dce0a-484c-4db4-dac5-bc234ef7a6b6"
      },
      "outputs": [
        {
          "output_type": "execute_result",
          "data": {
            "text/plain": [
              "     Date   Open   High    Low  Close\n",
              "0  Jul-05  13.00  14.00  11.25  12.46\n",
              "1  Aug-05  12.58  14.88  12.55  13.42\n",
              "2  Sep-05  13.48  14.87  12.27  13.30\n",
              "3  Oct-05  13.20  14.47  12.40  12.99\n",
              "4  Nov-05  13.35  13.88  12.88  13.41"
            ],
            "text/html": [
              "\n",
              "  <div id=\"df-8bde8f60-6d0f-4756-a3ed-97519d051c03\">\n",
              "    <div class=\"colab-df-container\">\n",
              "      <div>\n",
              "<style scoped>\n",
              "    .dataframe tbody tr th:only-of-type {\n",
              "        vertical-align: middle;\n",
              "    }\n",
              "\n",
              "    .dataframe tbody tr th {\n",
              "        vertical-align: top;\n",
              "    }\n",
              "\n",
              "    .dataframe thead th {\n",
              "        text-align: right;\n",
              "    }\n",
              "</style>\n",
              "<table border=\"1\" class=\"dataframe\">\n",
              "  <thead>\n",
              "    <tr style=\"text-align: right;\">\n",
              "      <th></th>\n",
              "      <th>Date</th>\n",
              "      <th>Open</th>\n",
              "      <th>High</th>\n",
              "      <th>Low</th>\n",
              "      <th>Close</th>\n",
              "    </tr>\n",
              "  </thead>\n",
              "  <tbody>\n",
              "    <tr>\n",
              "      <th>0</th>\n",
              "      <td>Jul-05</td>\n",
              "      <td>13.00</td>\n",
              "      <td>14.00</td>\n",
              "      <td>11.25</td>\n",
              "      <td>12.46</td>\n",
              "    </tr>\n",
              "    <tr>\n",
              "      <th>1</th>\n",
              "      <td>Aug-05</td>\n",
              "      <td>12.58</td>\n",
              "      <td>14.88</td>\n",
              "      <td>12.55</td>\n",
              "      <td>13.42</td>\n",
              "    </tr>\n",
              "    <tr>\n",
              "      <th>2</th>\n",
              "      <td>Sep-05</td>\n",
              "      <td>13.48</td>\n",
              "      <td>14.87</td>\n",
              "      <td>12.27</td>\n",
              "      <td>13.30</td>\n",
              "    </tr>\n",
              "    <tr>\n",
              "      <th>3</th>\n",
              "      <td>Oct-05</td>\n",
              "      <td>13.20</td>\n",
              "      <td>14.47</td>\n",
              "      <td>12.40</td>\n",
              "      <td>12.99</td>\n",
              "    </tr>\n",
              "    <tr>\n",
              "      <th>4</th>\n",
              "      <td>Nov-05</td>\n",
              "      <td>13.35</td>\n",
              "      <td>13.88</td>\n",
              "      <td>12.88</td>\n",
              "      <td>13.41</td>\n",
              "    </tr>\n",
              "  </tbody>\n",
              "</table>\n",
              "</div>\n",
              "      <button class=\"colab-df-convert\" onclick=\"convertToInteractive('df-8bde8f60-6d0f-4756-a3ed-97519d051c03')\"\n",
              "              title=\"Convert this dataframe to an interactive table.\"\n",
              "              style=\"display:none;\">\n",
              "        \n",
              "  <svg xmlns=\"http://www.w3.org/2000/svg\" height=\"24px\"viewBox=\"0 0 24 24\"\n",
              "       width=\"24px\">\n",
              "    <path d=\"M0 0h24v24H0V0z\" fill=\"none\"/>\n",
              "    <path d=\"M18.56 5.44l.94 2.06.94-2.06 2.06-.94-2.06-.94-.94-2.06-.94 2.06-2.06.94zm-11 1L8.5 8.5l.94-2.06 2.06-.94-2.06-.94L8.5 2.5l-.94 2.06-2.06.94zm10 10l.94 2.06.94-2.06 2.06-.94-2.06-.94-.94-2.06-.94 2.06-2.06.94z\"/><path d=\"M17.41 7.96l-1.37-1.37c-.4-.4-.92-.59-1.43-.59-.52 0-1.04.2-1.43.59L10.3 9.45l-7.72 7.72c-.78.78-.78 2.05 0 2.83L4 21.41c.39.39.9.59 1.41.59.51 0 1.02-.2 1.41-.59l7.78-7.78 2.81-2.81c.8-.78.8-2.07 0-2.86zM5.41 20L4 18.59l7.72-7.72 1.47 1.35L5.41 20z\"/>\n",
              "  </svg>\n",
              "      </button>\n",
              "      \n",
              "  <style>\n",
              "    .colab-df-container {\n",
              "      display:flex;\n",
              "      flex-wrap:wrap;\n",
              "      gap: 12px;\n",
              "    }\n",
              "\n",
              "    .colab-df-convert {\n",
              "      background-color: #E8F0FE;\n",
              "      border: none;\n",
              "      border-radius: 50%;\n",
              "      cursor: pointer;\n",
              "      display: none;\n",
              "      fill: #1967D2;\n",
              "      height: 32px;\n",
              "      padding: 0 0 0 0;\n",
              "      width: 32px;\n",
              "    }\n",
              "\n",
              "    .colab-df-convert:hover {\n",
              "      background-color: #E2EBFA;\n",
              "      box-shadow: 0px 1px 2px rgba(60, 64, 67, 0.3), 0px 1px 3px 1px rgba(60, 64, 67, 0.15);\n",
              "      fill: #174EA6;\n",
              "    }\n",
              "\n",
              "    [theme=dark] .colab-df-convert {\n",
              "      background-color: #3B4455;\n",
              "      fill: #D2E3FC;\n",
              "    }\n",
              "\n",
              "    [theme=dark] .colab-df-convert:hover {\n",
              "      background-color: #434B5C;\n",
              "      box-shadow: 0px 1px 3px 1px rgba(0, 0, 0, 0.15);\n",
              "      filter: drop-shadow(0px 1px 2px rgba(0, 0, 0, 0.3));\n",
              "      fill: #FFFFFF;\n",
              "    }\n",
              "  </style>\n",
              "\n",
              "      <script>\n",
              "        const buttonEl =\n",
              "          document.querySelector('#df-8bde8f60-6d0f-4756-a3ed-97519d051c03 button.colab-df-convert');\n",
              "        buttonEl.style.display =\n",
              "          google.colab.kernel.accessAllowed ? 'block' : 'none';\n",
              "\n",
              "        async function convertToInteractive(key) {\n",
              "          const element = document.querySelector('#df-8bde8f60-6d0f-4756-a3ed-97519d051c03');\n",
              "          const dataTable =\n",
              "            await google.colab.kernel.invokeFunction('convertToInteractive',\n",
              "                                                     [key], {});\n",
              "          if (!dataTable) return;\n",
              "\n",
              "          const docLinkHtml = 'Like what you see? Visit the ' +\n",
              "            '<a target=\"_blank\" href=https://colab.research.google.com/notebooks/data_table.ipynb>data table notebook</a>'\n",
              "            + ' to learn more about interactive tables.';\n",
              "          element.innerHTML = '';\n",
              "          dataTable['output_type'] = 'display_data';\n",
              "          await google.colab.output.renderOutput(dataTable, element);\n",
              "          const docLink = document.createElement('div');\n",
              "          docLink.innerHTML = docLinkHtml;\n",
              "          element.appendChild(docLink);\n",
              "        }\n",
              "      </script>\n",
              "    </div>\n",
              "  </div>\n",
              "  "
            ]
          },
          "metadata": {},
          "execution_count": 3
        }
      ],
      "source": [
        "#Checking the top 5 observations\n",
        "stock_df.head()"
      ]
    },
    {
      "cell_type": "code",
      "execution_count": 4,
      "metadata": {
        "colab": {
          "base_uri": "https://localhost:8080/",
          "height": 206
        },
        "id": "RhyKH07O6ULP",
        "outputId": "3d308af1-527e-4e38-cae4-44c177de840a"
      },
      "outputs": [
        {
          "output_type": "execute_result",
          "data": {
            "text/plain": [
              "       Date   Open   High    Low  Close\n",
              "180  Jul-20  25.60  28.30  11.10  11.95\n",
              "181  Aug-20  12.00  17.16  11.85  14.37\n",
              "182  Sep-20  14.30  15.34  12.75  13.15\n",
              "183  Oct-20  13.30  14.01  12.11  12.42\n",
              "184  Nov-20  12.41  14.90  12.21  14.67"
            ],
            "text/html": [
              "\n",
              "  <div id=\"df-784b2c35-a71f-43d6-aa10-2f78e2ce7476\">\n",
              "    <div class=\"colab-df-container\">\n",
              "      <div>\n",
              "<style scoped>\n",
              "    .dataframe tbody tr th:only-of-type {\n",
              "        vertical-align: middle;\n",
              "    }\n",
              "\n",
              "    .dataframe tbody tr th {\n",
              "        vertical-align: top;\n",
              "    }\n",
              "\n",
              "    .dataframe thead th {\n",
              "        text-align: right;\n",
              "    }\n",
              "</style>\n",
              "<table border=\"1\" class=\"dataframe\">\n",
              "  <thead>\n",
              "    <tr style=\"text-align: right;\">\n",
              "      <th></th>\n",
              "      <th>Date</th>\n",
              "      <th>Open</th>\n",
              "      <th>High</th>\n",
              "      <th>Low</th>\n",
              "      <th>Close</th>\n",
              "    </tr>\n",
              "  </thead>\n",
              "  <tbody>\n",
              "    <tr>\n",
              "      <th>180</th>\n",
              "      <td>Jul-20</td>\n",
              "      <td>25.60</td>\n",
              "      <td>28.30</td>\n",
              "      <td>11.10</td>\n",
              "      <td>11.95</td>\n",
              "    </tr>\n",
              "    <tr>\n",
              "      <th>181</th>\n",
              "      <td>Aug-20</td>\n",
              "      <td>12.00</td>\n",
              "      <td>17.16</td>\n",
              "      <td>11.85</td>\n",
              "      <td>14.37</td>\n",
              "    </tr>\n",
              "    <tr>\n",
              "      <th>182</th>\n",
              "      <td>Sep-20</td>\n",
              "      <td>14.30</td>\n",
              "      <td>15.34</td>\n",
              "      <td>12.75</td>\n",
              "      <td>13.15</td>\n",
              "    </tr>\n",
              "    <tr>\n",
              "      <th>183</th>\n",
              "      <td>Oct-20</td>\n",
              "      <td>13.30</td>\n",
              "      <td>14.01</td>\n",
              "      <td>12.11</td>\n",
              "      <td>12.42</td>\n",
              "    </tr>\n",
              "    <tr>\n",
              "      <th>184</th>\n",
              "      <td>Nov-20</td>\n",
              "      <td>12.41</td>\n",
              "      <td>14.90</td>\n",
              "      <td>12.21</td>\n",
              "      <td>14.67</td>\n",
              "    </tr>\n",
              "  </tbody>\n",
              "</table>\n",
              "</div>\n",
              "      <button class=\"colab-df-convert\" onclick=\"convertToInteractive('df-784b2c35-a71f-43d6-aa10-2f78e2ce7476')\"\n",
              "              title=\"Convert this dataframe to an interactive table.\"\n",
              "              style=\"display:none;\">\n",
              "        \n",
              "  <svg xmlns=\"http://www.w3.org/2000/svg\" height=\"24px\"viewBox=\"0 0 24 24\"\n",
              "       width=\"24px\">\n",
              "    <path d=\"M0 0h24v24H0V0z\" fill=\"none\"/>\n",
              "    <path d=\"M18.56 5.44l.94 2.06.94-2.06 2.06-.94-2.06-.94-.94-2.06-.94 2.06-2.06.94zm-11 1L8.5 8.5l.94-2.06 2.06-.94-2.06-.94L8.5 2.5l-.94 2.06-2.06.94zm10 10l.94 2.06.94-2.06 2.06-.94-2.06-.94-.94-2.06-.94 2.06-2.06.94z\"/><path d=\"M17.41 7.96l-1.37-1.37c-.4-.4-.92-.59-1.43-.59-.52 0-1.04.2-1.43.59L10.3 9.45l-7.72 7.72c-.78.78-.78 2.05 0 2.83L4 21.41c.39.39.9.59 1.41.59.51 0 1.02-.2 1.41-.59l7.78-7.78 2.81-2.81c.8-.78.8-2.07 0-2.86zM5.41 20L4 18.59l7.72-7.72 1.47 1.35L5.41 20z\"/>\n",
              "  </svg>\n",
              "      </button>\n",
              "      \n",
              "  <style>\n",
              "    .colab-df-container {\n",
              "      display:flex;\n",
              "      flex-wrap:wrap;\n",
              "      gap: 12px;\n",
              "    }\n",
              "\n",
              "    .colab-df-convert {\n",
              "      background-color: #E8F0FE;\n",
              "      border: none;\n",
              "      border-radius: 50%;\n",
              "      cursor: pointer;\n",
              "      display: none;\n",
              "      fill: #1967D2;\n",
              "      height: 32px;\n",
              "      padding: 0 0 0 0;\n",
              "      width: 32px;\n",
              "    }\n",
              "\n",
              "    .colab-df-convert:hover {\n",
              "      background-color: #E2EBFA;\n",
              "      box-shadow: 0px 1px 2px rgba(60, 64, 67, 0.3), 0px 1px 3px 1px rgba(60, 64, 67, 0.15);\n",
              "      fill: #174EA6;\n",
              "    }\n",
              "\n",
              "    [theme=dark] .colab-df-convert {\n",
              "      background-color: #3B4455;\n",
              "      fill: #D2E3FC;\n",
              "    }\n",
              "\n",
              "    [theme=dark] .colab-df-convert:hover {\n",
              "      background-color: #434B5C;\n",
              "      box-shadow: 0px 1px 3px 1px rgba(0, 0, 0, 0.15);\n",
              "      filter: drop-shadow(0px 1px 2px rgba(0, 0, 0, 0.3));\n",
              "      fill: #FFFFFF;\n",
              "    }\n",
              "  </style>\n",
              "\n",
              "      <script>\n",
              "        const buttonEl =\n",
              "          document.querySelector('#df-784b2c35-a71f-43d6-aa10-2f78e2ce7476 button.colab-df-convert');\n",
              "        buttonEl.style.display =\n",
              "          google.colab.kernel.accessAllowed ? 'block' : 'none';\n",
              "\n",
              "        async function convertToInteractive(key) {\n",
              "          const element = document.querySelector('#df-784b2c35-a71f-43d6-aa10-2f78e2ce7476');\n",
              "          const dataTable =\n",
              "            await google.colab.kernel.invokeFunction('convertToInteractive',\n",
              "                                                     [key], {});\n",
              "          if (!dataTable) return;\n",
              "\n",
              "          const docLinkHtml = 'Like what you see? Visit the ' +\n",
              "            '<a target=\"_blank\" href=https://colab.research.google.com/notebooks/data_table.ipynb>data table notebook</a>'\n",
              "            + ' to learn more about interactive tables.';\n",
              "          element.innerHTML = '';\n",
              "          dataTable['output_type'] = 'display_data';\n",
              "          await google.colab.output.renderOutput(dataTable, element);\n",
              "          const docLink = document.createElement('div');\n",
              "          docLink.innerHTML = docLinkHtml;\n",
              "          element.appendChild(docLink);\n",
              "        }\n",
              "      </script>\n",
              "    </div>\n",
              "  </div>\n",
              "  "
            ]
          },
          "metadata": {},
          "execution_count": 4
        }
      ],
      "source": [
        "#Checking botton 5 observations\n",
        "stock_df.tail()"
      ]
    },
    {
      "cell_type": "code",
      "execution_count": 5,
      "metadata": {
        "colab": {
          "base_uri": "https://localhost:8080/"
        },
        "id": "T3bP3IJx6aHf",
        "outputId": "5519678c-2dc1-47c6-da00-13ecbe831f14"
      },
      "outputs": [
        {
          "output_type": "stream",
          "name": "stdout",
          "text": [
            "<class 'pandas.core.frame.DataFrame'>\n",
            "RangeIndex: 185 entries, 0 to 184\n",
            "Data columns (total 5 columns):\n",
            " #   Column  Non-Null Count  Dtype  \n",
            "---  ------  --------------  -----  \n",
            " 0   Date    185 non-null    object \n",
            " 1   Open    185 non-null    float64\n",
            " 2   High    185 non-null    float64\n",
            " 3   Low     185 non-null    float64\n",
            " 4   Close   185 non-null    float64\n",
            "dtypes: float64(4), object(1)\n",
            "memory usage: 7.4+ KB\n"
          ]
        }
      ],
      "source": [
        "#Exploring the data types and \n",
        "stock_df.info()"
      ]
    },
    {
      "cell_type": "markdown",
      "metadata": {
        "id": "5pn6jQk461RX"
      },
      "source": [
        "**Findings:**\n",
        "\n",
        "- There are total 185 records/ rows and 5 columns\n",
        "- Most columns are of type float and only \"Date\" Column is of type object.\n",
        "- We would need to conver the Date column from object to date type.\n"
      ]
    },
    {
      "cell_type": "code",
      "execution_count": 6,
      "metadata": {
        "colab": {
          "base_uri": "https://localhost:8080/",
          "height": 300
        },
        "id": "NKemaGnm6uI-",
        "outputId": "1c118d46-f245-49ca-9d85-5321673b1394"
      },
      "outputs": [
        {
          "output_type": "execute_result",
          "data": {
            "text/plain": [
              "             Open        High         Low       Close\n",
              "count  185.000000  185.000000  185.000000  185.000000\n",
              "mean   105.541405  116.104324   94.947838  105.204703\n",
              "std     98.879850  106.333497   91.219415   98.583153\n",
              "min     10.000000   11.240000    5.550000    9.980000\n",
              "25%     33.800000   36.140000   28.510000   33.450000\n",
              "50%     62.980000   72.550000   58.000000   62.540000\n",
              "75%    153.000000  169.190000  138.350000  153.300000\n",
              "max    369.950000  404.000000  345.500000  367.900000"
            ],
            "text/html": [
              "\n",
              "  <div id=\"df-2ec1a2b1-446b-4c07-bb42-bafc1b5ec9e4\">\n",
              "    <div class=\"colab-df-container\">\n",
              "      <div>\n",
              "<style scoped>\n",
              "    .dataframe tbody tr th:only-of-type {\n",
              "        vertical-align: middle;\n",
              "    }\n",
              "\n",
              "    .dataframe tbody tr th {\n",
              "        vertical-align: top;\n",
              "    }\n",
              "\n",
              "    .dataframe thead th {\n",
              "        text-align: right;\n",
              "    }\n",
              "</style>\n",
              "<table border=\"1\" class=\"dataframe\">\n",
              "  <thead>\n",
              "    <tr style=\"text-align: right;\">\n",
              "      <th></th>\n",
              "      <th>Open</th>\n",
              "      <th>High</th>\n",
              "      <th>Low</th>\n",
              "      <th>Close</th>\n",
              "    </tr>\n",
              "  </thead>\n",
              "  <tbody>\n",
              "    <tr>\n",
              "      <th>count</th>\n",
              "      <td>185.000000</td>\n",
              "      <td>185.000000</td>\n",
              "      <td>185.000000</td>\n",
              "      <td>185.000000</td>\n",
              "    </tr>\n",
              "    <tr>\n",
              "      <th>mean</th>\n",
              "      <td>105.541405</td>\n",
              "      <td>116.104324</td>\n",
              "      <td>94.947838</td>\n",
              "      <td>105.204703</td>\n",
              "    </tr>\n",
              "    <tr>\n",
              "      <th>std</th>\n",
              "      <td>98.879850</td>\n",
              "      <td>106.333497</td>\n",
              "      <td>91.219415</td>\n",
              "      <td>98.583153</td>\n",
              "    </tr>\n",
              "    <tr>\n",
              "      <th>min</th>\n",
              "      <td>10.000000</td>\n",
              "      <td>11.240000</td>\n",
              "      <td>5.550000</td>\n",
              "      <td>9.980000</td>\n",
              "    </tr>\n",
              "    <tr>\n",
              "      <th>25%</th>\n",
              "      <td>33.800000</td>\n",
              "      <td>36.140000</td>\n",
              "      <td>28.510000</td>\n",
              "      <td>33.450000</td>\n",
              "    </tr>\n",
              "    <tr>\n",
              "      <th>50%</th>\n",
              "      <td>62.980000</td>\n",
              "      <td>72.550000</td>\n",
              "      <td>58.000000</td>\n",
              "      <td>62.540000</td>\n",
              "    </tr>\n",
              "    <tr>\n",
              "      <th>75%</th>\n",
              "      <td>153.000000</td>\n",
              "      <td>169.190000</td>\n",
              "      <td>138.350000</td>\n",
              "      <td>153.300000</td>\n",
              "    </tr>\n",
              "    <tr>\n",
              "      <th>max</th>\n",
              "      <td>369.950000</td>\n",
              "      <td>404.000000</td>\n",
              "      <td>345.500000</td>\n",
              "      <td>367.900000</td>\n",
              "    </tr>\n",
              "  </tbody>\n",
              "</table>\n",
              "</div>\n",
              "      <button class=\"colab-df-convert\" onclick=\"convertToInteractive('df-2ec1a2b1-446b-4c07-bb42-bafc1b5ec9e4')\"\n",
              "              title=\"Convert this dataframe to an interactive table.\"\n",
              "              style=\"display:none;\">\n",
              "        \n",
              "  <svg xmlns=\"http://www.w3.org/2000/svg\" height=\"24px\"viewBox=\"0 0 24 24\"\n",
              "       width=\"24px\">\n",
              "    <path d=\"M0 0h24v24H0V0z\" fill=\"none\"/>\n",
              "    <path d=\"M18.56 5.44l.94 2.06.94-2.06 2.06-.94-2.06-.94-.94-2.06-.94 2.06-2.06.94zm-11 1L8.5 8.5l.94-2.06 2.06-.94-2.06-.94L8.5 2.5l-.94 2.06-2.06.94zm10 10l.94 2.06.94-2.06 2.06-.94-2.06-.94-.94-2.06-.94 2.06-2.06.94z\"/><path d=\"M17.41 7.96l-1.37-1.37c-.4-.4-.92-.59-1.43-.59-.52 0-1.04.2-1.43.59L10.3 9.45l-7.72 7.72c-.78.78-.78 2.05 0 2.83L4 21.41c.39.39.9.59 1.41.59.51 0 1.02-.2 1.41-.59l7.78-7.78 2.81-2.81c.8-.78.8-2.07 0-2.86zM5.41 20L4 18.59l7.72-7.72 1.47 1.35L5.41 20z\"/>\n",
              "  </svg>\n",
              "      </button>\n",
              "      \n",
              "  <style>\n",
              "    .colab-df-container {\n",
              "      display:flex;\n",
              "      flex-wrap:wrap;\n",
              "      gap: 12px;\n",
              "    }\n",
              "\n",
              "    .colab-df-convert {\n",
              "      background-color: #E8F0FE;\n",
              "      border: none;\n",
              "      border-radius: 50%;\n",
              "      cursor: pointer;\n",
              "      display: none;\n",
              "      fill: #1967D2;\n",
              "      height: 32px;\n",
              "      padding: 0 0 0 0;\n",
              "      width: 32px;\n",
              "    }\n",
              "\n",
              "    .colab-df-convert:hover {\n",
              "      background-color: #E2EBFA;\n",
              "      box-shadow: 0px 1px 2px rgba(60, 64, 67, 0.3), 0px 1px 3px 1px rgba(60, 64, 67, 0.15);\n",
              "      fill: #174EA6;\n",
              "    }\n",
              "\n",
              "    [theme=dark] .colab-df-convert {\n",
              "      background-color: #3B4455;\n",
              "      fill: #D2E3FC;\n",
              "    }\n",
              "\n",
              "    [theme=dark] .colab-df-convert:hover {\n",
              "      background-color: #434B5C;\n",
              "      box-shadow: 0px 1px 3px 1px rgba(0, 0, 0, 0.15);\n",
              "      filter: drop-shadow(0px 1px 2px rgba(0, 0, 0, 0.3));\n",
              "      fill: #FFFFFF;\n",
              "    }\n",
              "  </style>\n",
              "\n",
              "      <script>\n",
              "        const buttonEl =\n",
              "          document.querySelector('#df-2ec1a2b1-446b-4c07-bb42-bafc1b5ec9e4 button.colab-df-convert');\n",
              "        buttonEl.style.display =\n",
              "          google.colab.kernel.accessAllowed ? 'block' : 'none';\n",
              "\n",
              "        async function convertToInteractive(key) {\n",
              "          const element = document.querySelector('#df-2ec1a2b1-446b-4c07-bb42-bafc1b5ec9e4');\n",
              "          const dataTable =\n",
              "            await google.colab.kernel.invokeFunction('convertToInteractive',\n",
              "                                                     [key], {});\n",
              "          if (!dataTable) return;\n",
              "\n",
              "          const docLinkHtml = 'Like what you see? Visit the ' +\n",
              "            '<a target=\"_blank\" href=https://colab.research.google.com/notebooks/data_table.ipynb>data table notebook</a>'\n",
              "            + ' to learn more about interactive tables.';\n",
              "          element.innerHTML = '';\n",
              "          dataTable['output_type'] = 'display_data';\n",
              "          await google.colab.output.renderOutput(dataTable, element);\n",
              "          const docLink = document.createElement('div');\n",
              "          docLink.innerHTML = docLinkHtml;\n",
              "          element.appendChild(docLink);\n",
              "        }\n",
              "      </script>\n",
              "    </div>\n",
              "  </div>\n",
              "  "
            ]
          },
          "metadata": {},
          "execution_count": 6
        }
      ],
      "source": [
        "# Let's check the summary of numerical features\n",
        "stock_df.describe()"
      ]
    },
    {
      "cell_type": "code",
      "execution_count": 7,
      "metadata": {
        "colab": {
          "base_uri": "https://localhost:8080/"
        },
        "id": "BTQEp9988DNX",
        "outputId": "7ebe1625-4010-4e85-9327-afda4b1821d1"
      },
      "outputs": [
        {
          "output_type": "execute_result",
          "data": {
            "text/plain": [
              "(185, 5)"
            ]
          },
          "metadata": {},
          "execution_count": 7
        }
      ],
      "source": [
        "#Shape of DF\n",
        "stock_df.shape"
      ]
    },
    {
      "cell_type": "code",
      "execution_count": 8,
      "metadata": {
        "colab": {
          "base_uri": "https://localhost:8080/"
        },
        "id": "VQAhNyGP8aYH",
        "outputId": "9c24a7ad-5244-46b2-fe1c-d95e43abc61a"
      },
      "outputs": [
        {
          "output_type": "execute_result",
          "data": {
            "text/plain": [
              "Date     0\n",
              "Open     0\n",
              "High     0\n",
              "Low      0\n",
              "Close    0\n",
              "dtype: int64"
            ]
          },
          "metadata": {},
          "execution_count": 8
        }
      ],
      "source": [
        "#Checking for null values\n",
        "stock_df.isnull().sum()"
      ]
    },
    {
      "cell_type": "markdown",
      "metadata": {
        "id": "_Nv-mCqp9Ee_"
      },
      "source": [
        "Luckily there is no null values in our Df. This save's time and efforts to deal with null values seperately!\n"
      ]
    },
    {
      "cell_type": "code",
      "execution_count": 9,
      "metadata": {
        "colab": {
          "base_uri": "https://localhost:8080/"
        },
        "id": "khLcQq8e9s6f",
        "outputId": "7a712631-79f4-48f7-df6b-e35af137a241"
      },
      "outputs": [
        {
          "output_type": "execute_result",
          "data": {
            "text/plain": [
              "0"
            ]
          },
          "metadata": {},
          "execution_count": 9
        }
      ],
      "source": [
        "#Checking for Duplication in our Dataset\n",
        "len(stock_df[stock_df.duplicated()])\n"
      ]
    },
    {
      "cell_type": "code",
      "execution_count": 10,
      "metadata": {
        "id": "dilw4RgQ-YGv"
      },
      "outputs": [],
      "source": [
        "#Convertting Date column from object to date type(Data wrangling)\n",
        "stock_df['Date']= pd.to_datetime(stock_df['Date'], format= '%b-%y')"
      ]
    },
    {
      "cell_type": "code",
      "execution_count": 11,
      "metadata": {
        "colab": {
          "base_uri": "https://localhost:8080/"
        },
        "id": "9zTqrldE_hw_",
        "outputId": "68da5b0d-a03e-4ffb-c665-566ebee4abce"
      },
      "outputs": [
        {
          "output_type": "stream",
          "name": "stdout",
          "text": [
            "<class 'pandas.core.frame.DataFrame'>\n",
            "RangeIndex: 185 entries, 0 to 184\n",
            "Data columns (total 5 columns):\n",
            " #   Column  Non-Null Count  Dtype         \n",
            "---  ------  --------------  -----         \n",
            " 0   Date    185 non-null    datetime64[ns]\n",
            " 1   Open    185 non-null    float64       \n",
            " 2   High    185 non-null    float64       \n",
            " 3   Low     185 non-null    float64       \n",
            " 4   Close   185 non-null    float64       \n",
            "dtypes: datetime64[ns](1), float64(4)\n",
            "memory usage: 7.4 KB\n"
          ]
        }
      ],
      "source": [
        "stock_df.info()"
      ]
    },
    {
      "cell_type": "markdown",
      "metadata": {
        "id": "4yrCG8Z9_rl2"
      },
      "source": [
        "#**Exploratory Data Analysis**"
      ]
    },
    {
      "cell_type": "markdown",
      "metadata": {
        "id": "bdXvD5xs_2EX"
      },
      "source": [
        "##**Univariate Analysis**"
      ]
    },
    {
      "cell_type": "code",
      "execution_count": 12,
      "metadata": {
        "colab": {
          "base_uri": "https://localhost:8080/",
          "height": 1000
        },
        "id": "K7wsXI72AcI_",
        "outputId": "7b7de5b3-97fc-447e-b88d-520c4a2ef22f"
      },
      "outputs": [
        {
          "output_type": "display_data",
          "data": {
            "text/plain": [
              "<Figure size 576x360 with 0 Axes>"
            ]
          },
          "metadata": {}
        },
        {
          "output_type": "display_data",
          "data": {
            "text/plain": [
              "<Figure size 720x504 with 1 Axes>"
            ],
            "image/png": "[encoded data removed]"
          },
          "metadata": {}
        },
        {
          "output_type": "display_data",
          "data": {
            "text/plain": [
              "<Figure size 720x504 with 1 Axes>"
            ],
            "image/png": "[encoded data removed]"
          },
          "metadata": {}
        },
        {
          "output_type": "display_data",
          "data": {
            "text/plain": [
              "<Figure size 720x504 with 1 Axes>"
            ],
            "image/png": "[encoded data removed]"
          },
          "metadata": {}
        },
        {
          "output_type": "display_data",
          "data": {
            "text/plain": [
              "<Figure size 720x504 with 1 Axes>"
            ],
            "image/png": "[encoded data removed]"
          },
          "metadata": {}
        }
      ],
      "source": [
        "# Plotting Distributions of all the numerical variables\n",
        "plt.figure(figsize= [8, 5])\n",
        "features= list(stock_df.describe().columns)\n",
        "sns.set(style='darkgrid')\n",
        "for col in features:\n",
        "  fig, ax = plt.subplots()\n",
        "  sns.histplot(stock_df[col], ax= ax, stat= 'density', element= 'step'  )\n",
        "  sns.kdeplot(stock_df[col], fill= True)\n",
        "  fig.set_figheight(7)\n",
        "  fig.set_figwidth(10)"
      ]
    },
    {
      "cell_type": "markdown",
      "metadata": {
        "id": "wbNiSCYqAl0n"
      },
      "source": [
        "**Findings:**\n",
        "\n",
        "- All the features are skewed towards right.\n",
        "- In this case we would need to convert it into normal distribution to get a better accuracy from our model. "
      ]
    },
    {
      "cell_type": "code",
      "execution_count": 13,
      "metadata": {
        "colab": {
          "base_uri": "https://localhost:8080/",
          "height": 1000
        },
        "id": "QyHoafZrExPu",
        "outputId": "ed13796f-3c41-4318-df71-2ee8268f8266"
      },
      "outputs": [
        {
          "output_type": "display_data",
          "data": {
            "text/plain": [
              "<Figure size 720x504 with 1 Axes>"
            ],
            "image/png": "[encoded data removed]"
          },
          "metadata": {}
        },
        {
          "output_type": "display_data",
          "data": {
            "text/plain": [
              "<Figure size 720x504 with 1 Axes>"
            ],
            "image/png": "[encoded data removed]"
          },
          "metadata": {}
        },
        {
          "output_type": "display_data",
          "data": {
            "text/plain": [
              "<Figure size 720x504 with 1 Axes>"
            ],
            "image/png": "[encoded data removed]"
          },
          "metadata": {}
        },
        {
          "output_type": "display_data",
          "data": {
            "text/plain": [
              "<Figure size 720x504 with 1 Axes>"
            ],
            "image/png": "[encoded data removed]"
          },
          "metadata": {}
        }
      ],
      "source": [
        "#Log transformation of all numerial features \n",
        "features= list(stock_df.describe().columns)\n",
        "sns.set(style='darkgrid')\n",
        "for col in features:\n",
        "  fig, ax = plt.subplots()\n",
        "  sns.histplot(np.log10(stock_df[col]), ax= ax, stat= 'density', element= 'step'  )\n",
        "  sns.kdeplot(np.log10(stock_df[col]), fill= True)\n",
        "  fig.set_figheight(7)\n",
        "  fig.set_figwidth(10)"
      ]
    },
    {
      "cell_type": "markdown",
      "metadata": {
        "id": "B9AVJ0TLE_V_"
      },
      "source": [
        "**Findings:**\n",
        "- After the log transformation the distribution of our Data Set turned into symmetrical."
      ]
    },
    {
      "cell_type": "code",
      "execution_count": 14,
      "metadata": {
        "colab": {
          "base_uri": "https://localhost:8080/",
          "height": 611
        },
        "id": "psHsR_IbFirA",
        "outputId": "b98e779a-0ad4-49a0-fd9a-50f926d0ca09"
      },
      "outputs": [
        {
          "output_type": "execute_result",
          "data": {
            "text/plain": [
              "<matplotlib.axes._subplots.AxesSubplot at 0x7ff28e5aa290>"
            ]
          },
          "metadata": {},
          "execution_count": 14
        },
        {
          "output_type": "display_data",
          "data": {
            "text/plain": [
              "<Figure size 1080x720 with 1 Axes>"
            ],
            "image/png": "[encoded data removed]"
          },
          "metadata": {}
        }
      ],
      "source": [
        "#Boxplot comparision of all the numerical features\n",
        "plt.figure(figsize= (15, 10))\n",
        "sns.boxplot(data=stock_df, orient=\"h\", palette=\"Set2\")"
      ]
    },
    {
      "cell_type": "markdown",
      "metadata": {
        "id": "a6QqIuIGF1wf"
      },
      "source": [
        "**Findings**:\n",
        "- All the features has median values between Rs 50 to Rs 80\n",
        "- There is a presence of outliers in all the features variables\n",
        "- Feature \"High\" has median value which is Rs 72.55 "
      ]
    },
    {
      "cell_type": "markdown",
      "metadata": {
        "id": "m8DbZVKSHMAw"
      },
      "source": [
        "##**Multivariate Analysis**"
      ]
    },
    {
      "cell_type": "code",
      "source": [
        "stock_df.head()"
      ],
      "metadata": {
        "colab": {
          "base_uri": "https://localhost:8080/",
          "height": 206
        },
        "id": "ZCZh5znwxbNx",
        "outputId": "d3be0493-a439-41a0-a343-ff0da7dce3ff"
      },
      "execution_count": 15,
      "outputs": [
        {
          "output_type": "execute_result",
          "data": {
            "text/plain": [
              "        Date   Open   High    Low  Close\n",
              "0 2005-07-01  13.00  14.00  11.25  12.46\n",
              "1 2005-08-01  12.58  14.88  12.55  13.42\n",
              "2 2005-09-01  13.48  14.87  12.27  13.30\n",
              "3 2005-10-01  13.20  14.47  12.40  12.99\n",
              "4 2005-11-01  13.35  13.88  12.88  13.41"
            ],
            "text/html": [
              "\n",
              "  <div id=\"df-0051e4db-7ff1-4d12-b254-937f9d2f8b63\">\n",
              "    <div class=\"colab-df-container\">\n",
              "      <div>\n",
              "<style scoped>\n",
              "    .dataframe tbody tr th:only-of-type {\n",
              "        vertical-align: middle;\n",
              "    }\n",
              "\n",
              "    .dataframe tbody tr th {\n",
              "        vertical-align: top;\n",
              "    }\n",
              "\n",
              "    .dataframe thead th {\n",
              "        text-align: right;\n",
              "    }\n",
              "</style>\n",
              "<table border=\"1\" class=\"dataframe\">\n",
              "  <thead>\n",
              "    <tr style=\"text-align: right;\">\n",
              "      <th></th>\n",
              "      <th>Date</th>\n",
              "      <th>Open</th>\n",
              "      <th>High</th>\n",
              "      <th>Low</th>\n",
              "      <th>Close</th>\n",
              "    </tr>\n",
              "  </thead>\n",
              "  <tbody>\n",
              "    <tr>\n",
              "      <th>0</th>\n",
              "      <td>2005-07-01</td>\n",
              "      <td>13.00</td>\n",
              "      <td>14.00</td>\n",
              "      <td>11.25</td>\n",
              "      <td>12.46</td>\n",
              "    </tr>\n",
              "    <tr>\n",
              "      <th>1</th>\n",
              "      <td>2005-08-01</td>\n",
              "      <td>12.58</td>\n",
              "      <td>14.88</td>\n",
              "      <td>12.55</td>\n",
              "      <td>13.42</td>\n",
              "    </tr>\n",
              "    <tr>\n",
              "      <th>2</th>\n",
              "      <td>2005-09-01</td>\n",
              "      <td>13.48</td>\n",
              "      <td>14.87</td>\n",
              "      <td>12.27</td>\n",
              "      <td>13.30</td>\n",
              "    </tr>\n",
              "    <tr>\n",
              "      <th>3</th>\n",
              "      <td>2005-10-01</td>\n",
              "      <td>13.20</td>\n",
              "      <td>14.47</td>\n",
              "      <td>12.40</td>\n",
              "      <td>12.99</td>\n",
              "    </tr>\n",
              "    <tr>\n",
              "      <th>4</th>\n",
              "      <td>2005-11-01</td>\n",
              "      <td>13.35</td>\n",
              "      <td>13.88</td>\n",
              "      <td>12.88</td>\n",
              "      <td>13.41</td>\n",
              "    </tr>\n",
              "  </tbody>\n",
              "</table>\n",
              "</div>\n",
              "      <button class=\"colab-df-convert\" onclick=\"convertToInteractive('df-0051e4db-7ff1-4d12-b254-937f9d2f8b63')\"\n",
              "              title=\"Convert this dataframe to an interactive table.\"\n",
              "              style=\"display:none;\">\n",
              "        \n",
              "  <svg xmlns=\"http://www.w3.org/2000/svg\" height=\"24px\"viewBox=\"0 0 24 24\"\n",
              "       width=\"24px\">\n",
              "    <path d=\"M0 0h24v24H0V0z\" fill=\"none\"/>\n",
              "    <path d=\"M18.56 5.44l.94 2.06.94-2.06 2.06-.94-2.06-.94-.94-2.06-.94 2.06-2.06.94zm-11 1L8.5 8.5l.94-2.06 2.06-.94-2.06-.94L8.5 2.5l-.94 2.06-2.06.94zm10 10l.94 2.06.94-2.06 2.06-.94-2.06-.94-.94-2.06-.94 2.06-2.06.94z\"/><path d=\"M17.41 7.96l-1.37-1.37c-.4-.4-.92-.59-1.43-.59-.52 0-1.04.2-1.43.59L10.3 9.45l-7.72 7.72c-.78.78-.78 2.05 0 2.83L4 21.41c.39.39.9.59 1.41.59.51 0 1.02-.2 1.41-.59l7.78-7.78 2.81-2.81c.8-.78.8-2.07 0-2.86zM5.41 20L4 18.59l7.72-7.72 1.47 1.35L5.41 20z\"/>\n",
              "  </svg>\n",
              "      </button>\n",
              "      \n",
              "  <style>\n",
              "    .colab-df-container {\n",
              "      display:flex;\n",
              "      flex-wrap:wrap;\n",
              "      gap: 12px;\n",
              "    }\n",
              "\n",
              "    .colab-df-convert {\n",
              "      background-color: #E8F0FE;\n",
              "      border: none;\n",
              "      border-radius: 50%;\n",
              "      cursor: pointer;\n",
              "      display: none;\n",
              "      fill: #1967D2;\n",
              "      height: 32px;\n",
              "      padding: 0 0 0 0;\n",
              "      width: 32px;\n",
              "    }\n",
              "\n",
              "    .colab-df-convert:hover {\n",
              "      background-color: #E2EBFA;\n",
              "      box-shadow: 0px 1px 2px rgba(60, 64, 67, 0.3), 0px 1px 3px 1px rgba(60, 64, 67, 0.15);\n",
              "      fill: #174EA6;\n",
              "    }\n",
              "\n",
              "    [theme=dark] .colab-df-convert {\n",
              "      background-color: #3B4455;\n",
              "      fill: #D2E3FC;\n",
              "    }\n",
              "\n",
              "    [theme=dark] .colab-df-convert:hover {\n",
              "      background-color: #434B5C;\n",
              "      box-shadow: 0px 1px 3px 1px rgba(0, 0, 0, 0.15);\n",
              "      filter: drop-shadow(0px 1px 2px rgba(0, 0, 0, 0.3));\n",
              "      fill: #FFFFFF;\n",
              "    }\n",
              "  </style>\n",
              "\n",
              "      <script>\n",
              "        const buttonEl =\n",
              "          document.querySelector('#df-0051e4db-7ff1-4d12-b254-937f9d2f8b63 button.colab-df-convert');\n",
              "        buttonEl.style.display =\n",
              "          google.colab.kernel.accessAllowed ? 'block' : 'none';\n",
              "\n",
              "        async function convertToInteractive(key) {\n",
              "          const element = document.querySelector('#df-0051e4db-7ff1-4d12-b254-937f9d2f8b63');\n",
              "          const dataTable =\n",
              "            await google.colab.kernel.invokeFunction('convertToInteractive',\n",
              "                                                     [key], {});\n",
              "          if (!dataTable) return;\n",
              "\n",
              "          const docLinkHtml = 'Like what you see? Visit the ' +\n",
              "            '<a target=\"_blank\" href=https://colab.research.google.com/notebooks/data_table.ipynb>data table notebook</a>'\n",
              "            + ' to learn more about interactive tables.';\n",
              "          element.innerHTML = '';\n",
              "          dataTable['output_type'] = 'display_data';\n",
              "          await google.colab.output.renderOutput(dataTable, element);\n",
              "          const docLink = document.createElement('div');\n",
              "          docLink.innerHTML = docLinkHtml;\n",
              "          element.appendChild(docLink);\n",
              "        }\n",
              "      </script>\n",
              "    </div>\n",
              "  </div>\n",
              "  "
            ]
          },
          "metadata": {},
          "execution_count": 15
        }
      ]
    },
    {
      "cell_type": "code",
      "source": [
        "Yearly_df= stock_df.groupby('Date')['Close'].mean().reset_index()\n",
        "Yearly_df.head()"
      ],
      "metadata": {
        "id": "o-NpgTCLxj4r",
        "colab": {
          "base_uri": "https://localhost:8080/",
          "height": 206
        },
        "outputId": "8d7d84cc-32fa-4bf1-d7fa-697d9ca45cc2"
      },
      "execution_count": 31,
      "outputs": [
        {
          "output_type": "execute_result",
          "data": {
            "text/plain": [
              "        Date  Close\n",
              "0 2005-07-01  12.46\n",
              "1 2005-08-01  13.42\n",
              "2 2005-09-01  13.30\n",
              "3 2005-10-01  12.99\n",
              "4 2005-11-01  13.41"
            ],
            "text/html": [
              "\n",
              "  <div id=\"df-777805e3-fdda-4412-a8a5-a140ebaf5a59\">\n",
              "    <div class=\"colab-df-container\">\n",
              "      <div>\n",
              "<style scoped>\n",
              "    .dataframe tbody tr th:only-of-type {\n",
              "        vertical-align: middle;\n",
              "    }\n",
              "\n",
              "    .dataframe tbody tr th {\n",
              "        vertical-align: top;\n",
              "    }\n",
              "\n",
              "    .dataframe thead th {\n",
              "        text-align: right;\n",
              "    }\n",
              "</style>\n",
              "<table border=\"1\" class=\"dataframe\">\n",
              "  <thead>\n",
              "    <tr style=\"text-align: right;\">\n",
              "      <th></th>\n",
              "      <th>Date</th>\n",
              "      <th>Close</th>\n",
              "    </tr>\n",
              "  </thead>\n",
              "  <tbody>\n",
              "    <tr>\n",
              "      <th>0</th>\n",
              "      <td>2005-07-01</td>\n",
              "      <td>12.46</td>\n",
              "    </tr>\n",
              "    <tr>\n",
              "      <th>1</th>\n",
              "      <td>2005-08-01</td>\n",
              "      <td>13.42</td>\n",
              "    </tr>\n",
              "    <tr>\n",
              "      <th>2</th>\n",
              "      <td>2005-09-01</td>\n",
              "      <td>13.30</td>\n",
              "    </tr>\n",
              "    <tr>\n",
              "      <th>3</th>\n",
              "      <td>2005-10-01</td>\n",
              "      <td>12.99</td>\n",
              "    </tr>\n",
              "    <tr>\n",
              "      <th>4</th>\n",
              "      <td>2005-11-01</td>\n",
              "      <td>13.41</td>\n",
              "    </tr>\n",
              "  </tbody>\n",
              "</table>\n",
              "</div>\n",
              "      <button class=\"colab-df-convert\" onclick=\"convertToInteractive('df-777805e3-fdda-4412-a8a5-a140ebaf5a59')\"\n",
              "              title=\"Convert this dataframe to an interactive table.\"\n",
              "              style=\"display:none;\">\n",
              "        \n",
              "  <svg xmlns=\"http://www.w3.org/2000/svg\" height=\"24px\"viewBox=\"0 0 24 24\"\n",
              "       width=\"24px\">\n",
              "    <path d=\"M0 0h24v24H0V0z\" fill=\"none\"/>\n",
              "    <path d=\"M18.56 5.44l.94 2.06.94-2.06 2.06-.94-2.06-.94-.94-2.06-.94 2.06-2.06.94zm-11 1L8.5 8.5l.94-2.06 2.06-.94-2.06-.94L8.5 2.5l-.94 2.06-2.06.94zm10 10l.94 2.06.94-2.06 2.06-.94-2.06-.94-.94-2.06-.94 2.06-2.06.94z\"/><path d=\"M17.41 7.96l-1.37-1.37c-.4-.4-.92-.59-1.43-.59-.52 0-1.04.2-1.43.59L10.3 9.45l-7.72 7.72c-.78.78-.78 2.05 0 2.83L4 21.41c.39.39.9.59 1.41.59.51 0 1.02-.2 1.41-.59l7.78-7.78 2.81-2.81c.8-.78.8-2.07 0-2.86zM5.41 20L4 18.59l7.72-7.72 1.47 1.35L5.41 20z\"/>\n",
              "  </svg>\n",
              "      </button>\n",
              "      \n",
              "  <style>\n",
              "    .colab-df-container {\n",
              "      display:flex;\n",
              "      flex-wrap:wrap;\n",
              "      gap: 12px;\n",
              "    }\n",
              "\n",
              "    .colab-df-convert {\n",
              "      background-color: #E8F0FE;\n",
              "      border: none;\n",
              "      border-radius: 50%;\n",
              "      cursor: pointer;\n",
              "      display: none;\n",
              "      fill: #1967D2;\n",
              "      height: 32px;\n",
              "      padding: 0 0 0 0;\n",
              "      width: 32px;\n",
              "    }\n",
              "\n",
              "    .colab-df-convert:hover {\n",
              "      background-color: #E2EBFA;\n",
              "      box-shadow: 0px 1px 2px rgba(60, 64, 67, 0.3), 0px 1px 3px 1px rgba(60, 64, 67, 0.15);\n",
              "      fill: #174EA6;\n",
              "    }\n",
              "\n",
              "    [theme=dark] .colab-df-convert {\n",
              "      background-color: #3B4455;\n",
              "      fill: #D2E3FC;\n",
              "    }\n",
              "\n",
              "    [theme=dark] .colab-df-convert:hover {\n",
              "      background-color: #434B5C;\n",
              "      box-shadow: 0px 1px 3px 1px rgba(0, 0, 0, 0.15);\n",
              "      filter: drop-shadow(0px 1px 2px rgba(0, 0, 0, 0.3));\n",
              "      fill: #FFFFFF;\n",
              "    }\n",
              "  </style>\n",
              "\n",
              "      <script>\n",
              "        const buttonEl =\n",
              "          document.querySelector('#df-777805e3-fdda-4412-a8a5-a140ebaf5a59 button.colab-df-convert');\n",
              "        buttonEl.style.display =\n",
              "          google.colab.kernel.accessAllowed ? 'block' : 'none';\n",
              "\n",
              "        async function convertToInteractive(key) {\n",
              "          const element = document.querySelector('#df-777805e3-fdda-4412-a8a5-a140ebaf5a59');\n",
              "          const dataTable =\n",
              "            await google.colab.kernel.invokeFunction('convertToInteractive',\n",
              "                                                     [key], {});\n",
              "          if (!dataTable) return;\n",
              "\n",
              "          const docLinkHtml = 'Like what you see? Visit the ' +\n",
              "            '<a target=\"_blank\" href=https://colab.research.google.com/notebooks/data_table.ipynb>data table notebook</a>'\n",
              "            + ' to learn more about interactive tables.';\n",
              "          element.innerHTML = '';\n",
              "          dataTable['output_type'] = 'display_data';\n",
              "          await google.colab.output.renderOutput(dataTable, element);\n",
              "          const docLink = document.createElement('div');\n",
              "          docLink.innerHTML = docLinkHtml;\n",
              "          element.appendChild(docLink);\n",
              "        }\n",
              "      </script>\n",
              "    </div>\n",
              "  </div>\n",
              "  "
            ]
          },
          "metadata": {},
          "execution_count": 31
        }
      ]
    },
    {
      "cell_type": "code",
      "execution_count": 30,
      "metadata": {
        "id": "hLZqMbBbJVIY",
        "colab": {
          "base_uri": "https://localhost:8080/",
          "height": 535
        },
        "outputId": "b533c356-5044-444e-e8f5-dc3921981792"
      },
      "outputs": [
        {
          "output_type": "execute_result",
          "data": {
            "text/plain": [
              "<matplotlib.axes._subplots.AxesSubplot at 0x7ff2873c01d0>"
            ]
          },
          "metadata": {},
          "execution_count": 30
        },
        {
          "output_type": "display_data",
          "data": {
            "text/plain": [
              "<Figure size 1080x576 with 1 Axes>"
            ],
            "image/png": "[encoded data removed]"
          },
          "metadata": {}
        }
      ],
      "source": [
        "plt.figure(figsize= [15, 8])\n",
        "plt.title(\"Trend of Yes Bank Closing Price\", fontweight = 'bold')\n",
        "sns.lineplot(data=Yearly_df, x= 'Date', y= 'Close', palette= 'husl' )"
      ]
    },
    {
      "cell_type": "markdown",
      "source": [
        "This plot of Closing prices of different dates give a very vivid picture of fluctuation in prices regarding different time-duration. After 2018 there is sudden fall in the stock closing price. It makes sense how severly Rana Kapoor case fraud affected the price of Yes bank stocks.\n",
        "\n"
      ],
      "metadata": {
        "id": "YfC3YxZJwlIy"
      }
    },
    {
      "cell_type": "code",
      "source": [
        "#Now let's check the relationship of each features with our dependent variable\n",
        "Independent_variables= list(stock_df.drop('Close', axis= 1).describe().columns)\n",
        "for col in Independent_variables:\n",
        "  fig, ax = plt.subplots()\n",
        "  sns.scatterplot(data= stock_df, x= 'Close', y= col, ax= ax)\n",
        "  ax.set_title(f'Close vs {col}')\n",
        "  z = np.polyfit(stock_df[col], stock_df['Close'], 1)\n",
        "  y_hat = np.poly1d(z)(stock_df[col])\n",
        " \n",
        "  ax.plot(stock_df[col], y_hat, \"r--\", lw=1)"
      ],
      "metadata": {
        "colab": {
          "base_uri": "https://localhost:8080/",
          "height": 869
        },
        "id": "14MbyPFtGXLN",
        "outputId": "8c73d7cc-e671-42cd-9ee9-1f75c3efa046"
      },
      "execution_count": 18,
      "outputs": [
        {
          "output_type": "display_data",
          "data": {
            "text/plain": [
              "<Figure size 432x288 with 1 Axes>"
            ],
            "image/png": "[encoded data removed]"
          },
          "metadata": {}
        },
        {
          "output_type": "display_data",
          "data": {
            "text/plain": [
              "<Figure size 432x288 with 1 Axes>"
            ],
            "image/png": "[encoded data removed]"
          },
          "metadata": {}
        },
        {
          "output_type": "display_data",
          "data": {
            "text/plain": [
              "<Figure size 432x288 with 1 Axes>"
            ],
            "image/png": "[encoded data removed]"
          },
          "metadata": {}
        }
      ]
    },
    {
      "cell_type": "markdown",
      "source": [
        "**Findings:**\n",
        "\n",
        "- All independent features have linear relationship with the dependent variable."
      ],
      "metadata": {
        "id": "MXaP9NEIGnKd"
      }
    },
    {
      "cell_type": "code",
      "source": [
        "#Let's get the heatmmap of the Numerical Variables\n",
        "plt.figure(figsize= (9, 6))\n",
        "Coorelation_matrix= stock_df.corr()\n",
        "sns.heatmap(Coorelation_matrix, annot= True, cmap= 'coolwarm')"
      ],
      "metadata": {
        "colab": {
          "base_uri": "https://localhost:8080/",
          "height": 398
        },
        "id": "w5abbsg5HXTJ",
        "outputId": "de5c3ef3-2e69-413b-a39b-089497844638"
      },
      "execution_count": 19,
      "outputs": [
        {
          "output_type": "execute_result",
          "data": {
            "text/plain": [
              "<matplotlib.axes._subplots.AxesSubplot at 0x7ff28bce7b90>"
            ]
          },
          "metadata": {},
          "execution_count": 19
        },
        {
          "output_type": "display_data",
          "data": {
            "text/plain": [
              "<Figure size 648x432 with 2 Axes>"
            ],
            "image/png": "[encoded data removed]"
          },
          "metadata": {}
        }
      ]
    },
    {
      "cell_type": "markdown",
      "source": [
        "**Findings:**\n",
        "\n",
        "- Looking at the heatmap we can say that all the features are highly coorelated. \n",
        "- Feature 'Low' has highest coorelation of 1 with dependent variable.\n",
        "- There exists multicoolinearity between Independent variables which means that we would need to remove one or more features from our dataset during feature selection. \n",
        "- Problem due to Multicollinearity is that it generates high variance of the estimated coefficients and hence, the coefficient estimates corresponding to those interrelated explanatory variables will not be accurate in giving us the actual picture. They can become very sensitive to small changes in the model."
      ],
      "metadata": {
        "id": "BYuUx95UIArp"
      }
    },
    {
      "cell_type": "markdown",
      "source": [
        "#**Feature Engineering**"
      ],
      "metadata": {
        "id": "CKJze1bJgAqz"
      }
    },
    {
      "cell_type": "markdown",
      "source": [
        "Now we move towards some feature engineering and see what we can implement in our dataset."
      ],
      "metadata": {
        "id": "QSbU-FoSjmQc"
      }
    },
    {
      "cell_type": "code",
      "source": [
        "stock_df.head()"
      ],
      "metadata": {
        "colab": {
          "base_uri": "https://localhost:8080/",
          "height": 206
        },
        "id": "XsCR5DoFjRcM",
        "outputId": "bf6721fc-1812-4cd3-83f3-b4adc4de4cfa"
      },
      "execution_count": 21,
      "outputs": [
        {
          "output_type": "execute_result",
          "data": {
            "text/plain": [
              "        Date   Open   High    Low  Close\n",
              "0 2005-07-01  13.00  14.00  11.25  12.46\n",
              "1 2005-08-01  12.58  14.88  12.55  13.42\n",
              "2 2005-09-01  13.48  14.87  12.27  13.30\n",
              "3 2005-10-01  13.20  14.47  12.40  12.99\n",
              "4 2005-11-01  13.35  13.88  12.88  13.41"
            ],
            "text/html": [
              "\n",
              "  <div id=\"df-c3bdc2af-d2cd-4b2d-9fbc-ad7e40461797\">\n",
              "    <div class=\"colab-df-container\">\n",
              "      <div>\n",
              "<style scoped>\n",
              "    .dataframe tbody tr th:only-of-type {\n",
              "        vertical-align: middle;\n",
              "    }\n",
              "\n",
              "    .dataframe tbody tr th {\n",
              "        vertical-align: top;\n",
              "    }\n",
              "\n",
              "    .dataframe thead th {\n",
              "        text-align: right;\n",
              "    }\n",
              "</style>\n",
              "<table border=\"1\" class=\"dataframe\">\n",
              "  <thead>\n",
              "    <tr style=\"text-align: right;\">\n",
              "      <th></th>\n",
              "      <th>Date</th>\n",
              "      <th>Open</th>\n",
              "      <th>High</th>\n",
              "      <th>Low</th>\n",
              "      <th>Close</th>\n",
              "    </tr>\n",
              "  </thead>\n",
              "  <tbody>\n",
              "    <tr>\n",
              "      <th>0</th>\n",
              "      <td>2005-07-01</td>\n",
              "      <td>13.00</td>\n",
              "      <td>14.00</td>\n",
              "      <td>11.25</td>\n",
              "      <td>12.46</td>\n",
              "    </tr>\n",
              "    <tr>\n",
              "      <th>1</th>\n",
              "      <td>2005-08-01</td>\n",
              "      <td>12.58</td>\n",
              "      <td>14.88</td>\n",
              "      <td>12.55</td>\n",
              "      <td>13.42</td>\n",
              "    </tr>\n",
              "    <tr>\n",
              "      <th>2</th>\n",
              "      <td>2005-09-01</td>\n",
              "      <td>13.48</td>\n",
              "      <td>14.87</td>\n",
              "      <td>12.27</td>\n",
              "      <td>13.30</td>\n",
              "    </tr>\n",
              "    <tr>\n",
              "      <th>3</th>\n",
              "      <td>2005-10-01</td>\n",
              "      <td>13.20</td>\n",
              "      <td>14.47</td>\n",
              "      <td>12.40</td>\n",
              "      <td>12.99</td>\n",
              "    </tr>\n",
              "    <tr>\n",
              "      <th>4</th>\n",
              "      <td>2005-11-01</td>\n",
              "      <td>13.35</td>\n",
              "      <td>13.88</td>\n",
              "      <td>12.88</td>\n",
              "      <td>13.41</td>\n",
              "    </tr>\n",
              "  </tbody>\n",
              "</table>\n",
              "</div>\n",
              "      <button class=\"colab-df-convert\" onclick=\"convertToInteractive('df-c3bdc2af-d2cd-4b2d-9fbc-ad7e40461797')\"\n",
              "              title=\"Convert this dataframe to an interactive table.\"\n",
              "              style=\"display:none;\">\n",
              "        \n",
              "  <svg xmlns=\"http://www.w3.org/2000/svg\" height=\"24px\"viewBox=\"0 0 24 24\"\n",
              "       width=\"24px\">\n",
              "    <path d=\"M0 0h24v24H0V0z\" fill=\"none\"/>\n",
              "    <path d=\"M18.56 5.44l.94 2.06.94-2.06 2.06-.94-2.06-.94-.94-2.06-.94 2.06-2.06.94zm-11 1L8.5 8.5l.94-2.06 2.06-.94-2.06-.94L8.5 2.5l-.94 2.06-2.06.94zm10 10l.94 2.06.94-2.06 2.06-.94-2.06-.94-.94-2.06-.94 2.06-2.06.94z\"/><path d=\"M17.41 7.96l-1.37-1.37c-.4-.4-.92-.59-1.43-.59-.52 0-1.04.2-1.43.59L10.3 9.45l-7.72 7.72c-.78.78-.78 2.05 0 2.83L4 21.41c.39.39.9.59 1.41.59.51 0 1.02-.2 1.41-.59l7.78-7.78 2.81-2.81c.8-.78.8-2.07 0-2.86zM5.41 20L4 18.59l7.72-7.72 1.47 1.35L5.41 20z\"/>\n",
              "  </svg>\n",
              "      </button>\n",
              "      \n",
              "  <style>\n",
              "    .colab-df-container {\n",
              "      display:flex;\n",
              "      flex-wrap:wrap;\n",
              "      gap: 12px;\n",
              "    }\n",
              "\n",
              "    .colab-df-convert {\n",
              "      background-color: #E8F0FE;\n",
              "      border: none;\n",
              "      border-radius: 50%;\n",
              "      cursor: pointer;\n",
              "      display: none;\n",
              "      fill: #1967D2;\n",
              "      height: 32px;\n",
              "      padding: 0 0 0 0;\n",
              "      width: 32px;\n",
              "    }\n",
              "\n",
              "    .colab-df-convert:hover {\n",
              "      background-color: #E2EBFA;\n",
              "      box-shadow: 0px 1px 2px rgba(60, 64, 67, 0.3), 0px 1px 3px 1px rgba(60, 64, 67, 0.15);\n",
              "      fill: #174EA6;\n",
              "    }\n",
              "\n",
              "    [theme=dark] .colab-df-convert {\n",
              "      background-color: #3B4455;\n",
              "      fill: #D2E3FC;\n",
              "    }\n",
              "\n",
              "    [theme=dark] .colab-df-convert:hover {\n",
              "      background-color: #434B5C;\n",
              "      box-shadow: 0px 1px 3px 1px rgba(0, 0, 0, 0.15);\n",
              "      filter: drop-shadow(0px 1px 2px rgba(0, 0, 0, 0.3));\n",
              "      fill: #FFFFFF;\n",
              "    }\n",
              "  </style>\n",
              "\n",
              "      <script>\n",
              "        const buttonEl =\n",
              "          document.querySelector('#df-c3bdc2af-d2cd-4b2d-9fbc-ad7e40461797 button.colab-df-convert');\n",
              "        buttonEl.style.display =\n",
              "          google.colab.kernel.accessAllowed ? 'block' : 'none';\n",
              "\n",
              "        async function convertToInteractive(key) {\n",
              "          const element = document.querySelector('#df-c3bdc2af-d2cd-4b2d-9fbc-ad7e40461797');\n",
              "          const dataTable =\n",
              "            await google.colab.kernel.invokeFunction('convertToInteractive',\n",
              "                                                     [key], {});\n",
              "          if (!dataTable) return;\n",
              "\n",
              "          const docLinkHtml = 'Like what you see? Visit the ' +\n",
              "            '<a target=\"_blank\" href=https://colab.research.google.com/notebooks/data_table.ipynb>data table notebook</a>'\n",
              "            + ' to learn more about interactive tables.';\n",
              "          element.innerHTML = '';\n",
              "          dataTable['output_type'] = 'display_data';\n",
              "          await google.colab.output.renderOutput(dataTable, element);\n",
              "          const docLink = document.createElement('div');\n",
              "          docLink.innerHTML = docLinkHtml;\n",
              "          element.appendChild(docLink);\n",
              "        }\n",
              "      </script>\n",
              "    </div>\n",
              "  </div>\n",
              "  "
            ]
          },
          "metadata": {},
          "execution_count": 21
        }
      ]
    },
    {
      "cell_type": "code",
      "source": [
        "# Let's create a month and year column from the Date column\n",
        "stock_df['Month']= stock_df['Date'].dt.month\n",
        "stock_df['Year']= stock_df['Date'].dt.year\n"
      ],
      "metadata": {
        "id": "lUGEq97GjTeP"
      },
      "execution_count": 22,
      "outputs": []
    },
    {
      "cell_type": "code",
      "source": [
        "stock_df.head()"
      ],
      "metadata": {
        "colab": {
          "base_uri": "https://localhost:8080/",
          "height": 206
        },
        "id": "zcYt0ODjkVjV",
        "outputId": "c0191bcf-20df-4a6d-ae88-a2887b9374b0"
      },
      "execution_count": 23,
      "outputs": [
        {
          "output_type": "execute_result",
          "data": {
            "text/plain": [
              "        Date   Open   High    Low  Close  Month  Year\n",
              "0 2005-07-01  13.00  14.00  11.25  12.46      7  2005\n",
              "1 2005-08-01  12.58  14.88  12.55  13.42      8  2005\n",
              "2 2005-09-01  13.48  14.87  12.27  13.30      9  2005\n",
              "3 2005-10-01  13.20  14.47  12.40  12.99     10  2005\n",
              "4 2005-11-01  13.35  13.88  12.88  13.41     11  2005"
            ],
            "text/html": [
              "\n",
              "  <div id=\"df-2f9d264c-77c6-449b-be57-e4f3dc104336\">\n",
              "    <div class=\"colab-df-container\">\n",
              "      <div>\n",
              "<style scoped>\n",
              "    .dataframe tbody tr th:only-of-type {\n",
              "        vertical-align: middle;\n",
              "    }\n",
              "\n",
              "    .dataframe tbody tr th {\n",
              "        vertical-align: top;\n",
              "    }\n",
              "\n",
              "    .dataframe thead th {\n",
              "        text-align: right;\n",
              "    }\n",
              "</style>\n",
              "<table border=\"1\" class=\"dataframe\">\n",
              "  <thead>\n",
              "    <tr style=\"text-align: right;\">\n",
              "      <th></th>\n",
              "      <th>Date</th>\n",
              "      <th>Open</th>\n",
              "      <th>High</th>\n",
              "      <th>Low</th>\n",
              "      <th>Close</th>\n",
              "      <th>Month</th>\n",
              "      <th>Year</th>\n",
              "    </tr>\n",
              "  </thead>\n",
              "  <tbody>\n",
              "    <tr>\n",
              "      <th>0</th>\n",
              "      <td>2005-07-01</td>\n",
              "      <td>13.00</td>\n",
              "      <td>14.00</td>\n",
              "      <td>11.25</td>\n",
              "      <td>12.46</td>\n",
              "      <td>7</td>\n",
              "      <td>2005</td>\n",
              "    </tr>\n",
              "    <tr>\n",
              "      <th>1</th>\n",
              "      <td>2005-08-01</td>\n",
              "      <td>12.58</td>\n",
              "      <td>14.88</td>\n",
              "      <td>12.55</td>\n",
              "      <td>13.42</td>\n",
              "      <td>8</td>\n",
              "      <td>2005</td>\n",
              "    </tr>\n",
              "    <tr>\n",
              "      <th>2</th>\n",
              "      <td>2005-09-01</td>\n",
              "      <td>13.48</td>\n",
              "      <td>14.87</td>\n",
              "      <td>12.27</td>\n",
              "      <td>13.30</td>\n",
              "      <td>9</td>\n",
              "      <td>2005</td>\n",
              "    </tr>\n",
              "    <tr>\n",
              "      <th>3</th>\n",
              "      <td>2005-10-01</td>\n",
              "      <td>13.20</td>\n",
              "      <td>14.47</td>\n",
              "      <td>12.40</td>\n",
              "      <td>12.99</td>\n",
              "      <td>10</td>\n",
              "      <td>2005</td>\n",
              "    </tr>\n",
              "    <tr>\n",
              "      <th>4</th>\n",
              "      <td>2005-11-01</td>\n",
              "      <td>13.35</td>\n",
              "      <td>13.88</td>\n",
              "      <td>12.88</td>\n",
              "      <td>13.41</td>\n",
              "      <td>11</td>\n",
              "      <td>2005</td>\n",
              "    </tr>\n",
              "  </tbody>\n",
              "</table>\n",
              "</div>\n",
              "      <button class=\"colab-df-convert\" onclick=\"convertToInteractive('df-2f9d264c-77c6-449b-be57-e4f3dc104336')\"\n",
              "              title=\"Convert this dataframe to an interactive table.\"\n",
              "              style=\"display:none;\">\n",
              "        \n",
              "  <svg xmlns=\"http://www.w3.org/2000/svg\" height=\"24px\"viewBox=\"0 0 24 24\"\n",
              "       width=\"24px\">\n",
              "    <path d=\"M0 0h24v24H0V0z\" fill=\"none\"/>\n",
              "    <path d=\"M18.56 5.44l.94 2.06.94-2.06 2.06-.94-2.06-.94-.94-2.06-.94 2.06-2.06.94zm-11 1L8.5 8.5l.94-2.06 2.06-.94-2.06-.94L8.5 2.5l-.94 2.06-2.06.94zm10 10l.94 2.06.94-2.06 2.06-.94-2.06-.94-.94-2.06-.94 2.06-2.06.94z\"/><path d=\"M17.41 7.96l-1.37-1.37c-.4-.4-.92-.59-1.43-.59-.52 0-1.04.2-1.43.59L10.3 9.45l-7.72 7.72c-.78.78-.78 2.05 0 2.83L4 21.41c.39.39.9.59 1.41.59.51 0 1.02-.2 1.41-.59l7.78-7.78 2.81-2.81c.8-.78.8-2.07 0-2.86zM5.41 20L4 18.59l7.72-7.72 1.47 1.35L5.41 20z\"/>\n",
              "  </svg>\n",
              "      </button>\n",
              "      \n",
              "  <style>\n",
              "    .colab-df-container {\n",
              "      display:flex;\n",
              "      flex-wrap:wrap;\n",
              "      gap: 12px;\n",
              "    }\n",
              "\n",
              "    .colab-df-convert {\n",
              "      background-color: #E8F0FE;\n",
              "      border: none;\n",
              "      border-radius: 50%;\n",
              "      cursor: pointer;\n",
              "      display: none;\n",
              "      fill: #1967D2;\n",
              "      height: 32px;\n",
              "      padding: 0 0 0 0;\n",
              "      width: 32px;\n",
              "    }\n",
              "\n",
              "    .colab-df-convert:hover {\n",
              "      background-color: #E2EBFA;\n",
              "      box-shadow: 0px 1px 2px rgba(60, 64, 67, 0.3), 0px 1px 3px 1px rgba(60, 64, 67, 0.15);\n",
              "      fill: #174EA6;\n",
              "    }\n",
              "\n",
              "    [theme=dark] .colab-df-convert {\n",
              "      background-color: #3B4455;\n",
              "      fill: #D2E3FC;\n",
              "    }\n",
              "\n",
              "    [theme=dark] .colab-df-convert:hover {\n",
              "      background-color: #434B5C;\n",
              "      box-shadow: 0px 1px 3px 1px rgba(0, 0, 0, 0.15);\n",
              "      filter: drop-shadow(0px 1px 2px rgba(0, 0, 0, 0.3));\n",
              "      fill: #FFFFFF;\n",
              "    }\n",
              "  </style>\n",
              "\n",
              "      <script>\n",
              "        const buttonEl =\n",
              "          document.querySelector('#df-2f9d264c-77c6-449b-be57-e4f3dc104336 button.colab-df-convert');\n",
              "        buttonEl.style.display =\n",
              "          google.colab.kernel.accessAllowed ? 'block' : 'none';\n",
              "\n",
              "        async function convertToInteractive(key) {\n",
              "          const element = document.querySelector('#df-2f9d264c-77c6-449b-be57-e4f3dc104336');\n",
              "          const dataTable =\n",
              "            await google.colab.kernel.invokeFunction('convertToInteractive',\n",
              "                                                     [key], {});\n",
              "          if (!dataTable) return;\n",
              "\n",
              "          const docLinkHtml = 'Like what you see? Visit the ' +\n",
              "            '<a target=\"_blank\" href=https://colab.research.google.com/notebooks/data_table.ipynb>data table notebook</a>'\n",
              "            + ' to learn more about interactive tables.';\n",
              "          element.innerHTML = '';\n",
              "          dataTable['output_type'] = 'display_data';\n",
              "          await google.colab.output.renderOutput(dataTable, element);\n",
              "          const docLink = document.createElement('div');\n",
              "          docLink.innerHTML = docLinkHtml;\n",
              "          element.appendChild(docLink);\n",
              "        }\n",
              "      </script>\n",
              "    </div>\n",
              "  </div>\n",
              "  "
            ]
          },
          "metadata": {},
          "execution_count": 23
        }
      ]
    },
    {
      "cell_type": "code",
      "source": [
        "#Since the Date column cannon be used in our Model so we will convert it as index and drop the column\n",
        "stock_df.index= stock_df['Date']\n",
        "stock_df.drop('Date', axis= 1, inplace= True)"
      ],
      "metadata": {
        "id": "2kshlhYCkXG0"
      },
      "execution_count": 25,
      "outputs": []
    },
    {
      "cell_type": "code",
      "source": [
        "stock_df.head()"
      ],
      "metadata": {
        "colab": {
          "base_uri": "https://localhost:8080/",
          "height": 237
        },
        "id": "o7X_ZsVLkt-N",
        "outputId": "8a4dee15-c274-4782-911e-28ccfa1ea808"
      },
      "execution_count": 26,
      "outputs": [
        {
          "output_type": "execute_result",
          "data": {
            "text/plain": [
              "             Open   High    Low  Close  Month  Year\n",
              "Date                                               \n",
              "2005-07-01  13.00  14.00  11.25  12.46      7  2005\n",
              "2005-08-01  12.58  14.88  12.55  13.42      8  2005\n",
              "2005-09-01  13.48  14.87  12.27  13.30      9  2005\n",
              "2005-10-01  13.20  14.47  12.40  12.99     10  2005\n",
              "2005-11-01  13.35  13.88  12.88  13.41     11  2005"
            ],
            "text/html": [
              "\n",
              "  <div id=\"df-d5c96d5c-736f-4334-af82-a5b5699d76e8\">\n",
              "    <div class=\"colab-df-container\">\n",
              "      <div>\n",
              "<style scoped>\n",
              "    .dataframe tbody tr th:only-of-type {\n",
              "        vertical-align: middle;\n",
              "    }\n",
              "\n",
              "    .dataframe tbody tr th {\n",
              "        vertical-align: top;\n",
              "    }\n",
              "\n",
              "    .dataframe thead th {\n",
              "        text-align: right;\n",
              "    }\n",
              "</style>\n",
              "<table border=\"1\" class=\"dataframe\">\n",
              "  <thead>\n",
              "    <tr style=\"text-align: right;\">\n",
              "      <th></th>\n",
              "      <th>Open</th>\n",
              "      <th>High</th>\n",
              "      <th>Low</th>\n",
              "      <th>Close</th>\n",
              "      <th>Month</th>\n",
              "      <th>Year</th>\n",
              "    </tr>\n",
              "    <tr>\n",
              "      <th>Date</th>\n",
              "      <th></th>\n",
              "      <th></th>\n",
              "      <th></th>\n",
              "      <th></th>\n",
              "      <th></th>\n",
              "      <th></th>\n",
              "    </tr>\n",
              "  </thead>\n",
              "  <tbody>\n",
              "    <tr>\n",
              "      <th>2005-07-01</th>\n",
              "      <td>13.00</td>\n",
              "      <td>14.00</td>\n",
              "      <td>11.25</td>\n",
              "      <td>12.46</td>\n",
              "      <td>7</td>\n",
              "      <td>2005</td>\n",
              "    </tr>\n",
              "    <tr>\n",
              "      <th>2005-08-01</th>\n",
              "      <td>12.58</td>\n",
              "      <td>14.88</td>\n",
              "      <td>12.55</td>\n",
              "      <td>13.42</td>\n",
              "      <td>8</td>\n",
              "      <td>2005</td>\n",
              "    </tr>\n",
              "    <tr>\n",
              "      <th>2005-09-01</th>\n",
              "      <td>13.48</td>\n",
              "      <td>14.87</td>\n",
              "      <td>12.27</td>\n",
              "      <td>13.30</td>\n",
              "      <td>9</td>\n",
              "      <td>2005</td>\n",
              "    </tr>\n",
              "    <tr>\n",
              "      <th>2005-10-01</th>\n",
              "      <td>13.20</td>\n",
              "      <td>14.47</td>\n",
              "      <td>12.40</td>\n",
              "      <td>12.99</td>\n",
              "      <td>10</td>\n",
              "      <td>2005</td>\n",
              "    </tr>\n",
              "    <tr>\n",
              "      <th>2005-11-01</th>\n",
              "      <td>13.35</td>\n",
              "      <td>13.88</td>\n",
              "      <td>12.88</td>\n",
              "      <td>13.41</td>\n",
              "      <td>11</td>\n",
              "      <td>2005</td>\n",
              "    </tr>\n",
              "  </tbody>\n",
              "</table>\n",
              "</div>\n",
              "      <button class=\"colab-df-convert\" onclick=\"convertToInteractive('df-d5c96d5c-736f-4334-af82-a5b5699d76e8')\"\n",
              "              title=\"Convert this dataframe to an interactive table.\"\n",
              "              style=\"display:none;\">\n",
              "        \n",
              "  <svg xmlns=\"http://www.w3.org/2000/svg\" height=\"24px\"viewBox=\"0 0 24 24\"\n",
              "       width=\"24px\">\n",
              "    <path d=\"M0 0h24v24H0V0z\" fill=\"none\"/>\n",
              "    <path d=\"M18.56 5.44l.94 2.06.94-2.06 2.06-.94-2.06-.94-.94-2.06-.94 2.06-2.06.94zm-11 1L8.5 8.5l.94-2.06 2.06-.94-2.06-.94L8.5 2.5l-.94 2.06-2.06.94zm10 10l.94 2.06.94-2.06 2.06-.94-2.06-.94-.94-2.06-.94 2.06-2.06.94z\"/><path d=\"M17.41 7.96l-1.37-1.37c-.4-.4-.92-.59-1.43-.59-.52 0-1.04.2-1.43.59L10.3 9.45l-7.72 7.72c-.78.78-.78 2.05 0 2.83L4 21.41c.39.39.9.59 1.41.59.51 0 1.02-.2 1.41-.59l7.78-7.78 2.81-2.81c.8-.78.8-2.07 0-2.86zM5.41 20L4 18.59l7.72-7.72 1.47 1.35L5.41 20z\"/>\n",
              "  </svg>\n",
              "      </button>\n",
              "      \n",
              "  <style>\n",
              "    .colab-df-container {\n",
              "      display:flex;\n",
              "      flex-wrap:wrap;\n",
              "      gap: 12px;\n",
              "    }\n",
              "\n",
              "    .colab-df-convert {\n",
              "      background-color: #E8F0FE;\n",
              "      border: none;\n",
              "      border-radius: 50%;\n",
              "      cursor: pointer;\n",
              "      display: none;\n",
              "      fill: #1967D2;\n",
              "      height: 32px;\n",
              "      padding: 0 0 0 0;\n",
              "      width: 32px;\n",
              "    }\n",
              "\n",
              "    .colab-df-convert:hover {\n",
              "      background-color: #E2EBFA;\n",
              "      box-shadow: 0px 1px 2px rgba(60, 64, 67, 0.3), 0px 1px 3px 1px rgba(60, 64, 67, 0.15);\n",
              "      fill: #174EA6;\n",
              "    }\n",
              "\n",
              "    [theme=dark] .colab-df-convert {\n",
              "      background-color: #3B4455;\n",
              "      fill: #D2E3FC;\n",
              "    }\n",
              "\n",
              "    [theme=dark] .colab-df-convert:hover {\n",
              "      background-color: #434B5C;\n",
              "      box-shadow: 0px 1px 3px 1px rgba(0, 0, 0, 0.15);\n",
              "      filter: drop-shadow(0px 1px 2px rgba(0, 0, 0, 0.3));\n",
              "      fill: #FFFFFF;\n",
              "    }\n",
              "  </style>\n",
              "\n",
              "      <script>\n",
              "        const buttonEl =\n",
              "          document.querySelector('#df-d5c96d5c-736f-4334-af82-a5b5699d76e8 button.colab-df-convert');\n",
              "        buttonEl.style.display =\n",
              "          google.colab.kernel.accessAllowed ? 'block' : 'none';\n",
              "\n",
              "        async function convertToInteractive(key) {\n",
              "          const element = document.querySelector('#df-d5c96d5c-736f-4334-af82-a5b5699d76e8');\n",
              "          const dataTable =\n",
              "            await google.colab.kernel.invokeFunction('convertToInteractive',\n",
              "                                                     [key], {});\n",
              "          if (!dataTable) return;\n",
              "\n",
              "          const docLinkHtml = 'Like what you see? Visit the ' +\n",
              "            '<a target=\"_blank\" href=https://colab.research.google.com/notebooks/data_table.ipynb>data table notebook</a>'\n",
              "            + ' to learn more about interactive tables.';\n",
              "          element.innerHTML = '';\n",
              "          dataTable['output_type'] = 'display_data';\n",
              "          await google.colab.output.renderOutput(dataTable, element);\n",
              "          const docLink = document.createElement('div');\n",
              "          docLink.innerHTML = docLinkHtml;\n",
              "          element.appendChild(docLink);\n",
              "        }\n",
              "      </script>\n",
              "    </div>\n",
              "  </div>\n",
              "  "
            ]
          },
          "metadata": {},
          "execution_count": 26
        }
      ]
    },
    {
      "cell_type": "markdown",
      "source": [
        "Now we can see that the 'Date' column is used as index."
      ],
      "metadata": {
        "id": "24cVRRodk75e"
      }
    },
    {
      "cell_type": "markdown",
      "source": [
        "### <b> Let's check how <code>Shift()</code> function predict Closing price of *Yes Bank* further, we'll test our model with recent dataset."
      ],
      "metadata": {
        "id": "cXd9t4VGk5wD"
      }
    },
    {
      "cell_type": "code",
      "source": [
        "# Create a column 'Prediction' and shift 'n' Months for future prediction\n",
        "future_months = 1\n",
        "stock_df['Prediction'] = stock_df[['Close']].shift(-future_months)               # Shift() Function shifts index by the desired number of periods\n",
        "stock_df.head(3)"
      ],
      "metadata": {
        "colab": {
          "base_uri": "https://localhost:8080/",
          "height": 175
        },
        "id": "69vtnBVInB3x",
        "outputId": "c4117b62-0e1b-4410-879b-4ad177af3d7a"
      },
      "execution_count": 27,
      "outputs": [
        {
          "output_type": "execute_result",
          "data": {
            "text/plain": [
              "             Open   High    Low  Close  Month  Year  Prediction\n",
              "Date                                                           \n",
              "2005-07-01  13.00  14.00  11.25  12.46      7  2005       13.42\n",
              "2005-08-01  12.58  14.88  12.55  13.42      8  2005       13.30\n",
              "2005-09-01  13.48  14.87  12.27  13.30      9  2005       12.99"
            ],
            "text/html": [
              "\n",
              "  <div id=\"df-12567c81-ab68-4b81-9d34-357cd3b8e2a3\">\n",
              "    <div class=\"colab-df-container\">\n",
              "      <div>\n",
              "<style scoped>\n",
              "    .dataframe tbody tr th:only-of-type {\n",
              "        vertical-align: middle;\n",
              "    }\n",
              "\n",
              "    .dataframe tbody tr th {\n",
              "        vertical-align: top;\n",
              "    }\n",
              "\n",
              "    .dataframe thead th {\n",
              "        text-align: right;\n",
              "    }\n",
              "</style>\n",
              "<table border=\"1\" class=\"dataframe\">\n",
              "  <thead>\n",
              "    <tr style=\"text-align: right;\">\n",
              "      <th></th>\n",
              "      <th>Open</th>\n",
              "      <th>High</th>\n",
              "      <th>Low</th>\n",
              "      <th>Close</th>\n",
              "      <th>Month</th>\n",
              "      <th>Year</th>\n",
              "      <th>Prediction</th>\n",
              "    </tr>\n",
              "    <tr>\n",
              "      <th>Date</th>\n",
              "      <th></th>\n",
              "      <th></th>\n",
              "      <th></th>\n",
              "      <th></th>\n",
              "      <th></th>\n",
              "      <th></th>\n",
              "      <th></th>\n",
              "    </tr>\n",
              "  </thead>\n",
              "  <tbody>\n",
              "    <tr>\n",
              "      <th>2005-07-01</th>\n",
              "      <td>13.00</td>\n",
              "      <td>14.00</td>\n",
              "      <td>11.25</td>\n",
              "      <td>12.46</td>\n",
              "      <td>7</td>\n",
              "      <td>2005</td>\n",
              "      <td>13.42</td>\n",
              "    </tr>\n",
              "    <tr>\n",
              "      <th>2005-08-01</th>\n",
              "      <td>12.58</td>\n",
              "      <td>14.88</td>\n",
              "      <td>12.55</td>\n",
              "      <td>13.42</td>\n",
              "      <td>8</td>\n",
              "      <td>2005</td>\n",
              "      <td>13.30</td>\n",
              "    </tr>\n",
              "    <tr>\n",
              "      <th>2005-09-01</th>\n",
              "      <td>13.48</td>\n",
              "      <td>14.87</td>\n",
              "      <td>12.27</td>\n",
              "      <td>13.30</td>\n",
              "      <td>9</td>\n",
              "      <td>2005</td>\n",
              "      <td>12.99</td>\n",
              "    </tr>\n",
              "  </tbody>\n",
              "</table>\n",
              "</div>\n",
              "      <button class=\"colab-df-convert\" onclick=\"convertToInteractive('df-12567c81-ab68-4b81-9d34-357cd3b8e2a3')\"\n",
              "              title=\"Convert this dataframe to an interactive table.\"\n",
              "              style=\"display:none;\">\n",
              "        \n",
              "  <svg xmlns=\"http://www.w3.org/2000/svg\" height=\"24px\"viewBox=\"0 0 24 24\"\n",
              "       width=\"24px\">\n",
              "    <path d=\"M0 0h24v24H0V0z\" fill=\"none\"/>\n",
              "    <path d=\"M18.56 5.44l.94 2.06.94-2.06 2.06-.94-2.06-.94-.94-2.06-.94 2.06-2.06.94zm-11 1L8.5 8.5l.94-2.06 2.06-.94-2.06-.94L8.5 2.5l-.94 2.06-2.06.94zm10 10l.94 2.06.94-2.06 2.06-.94-2.06-.94-.94-2.06-.94 2.06-2.06.94z\"/><path d=\"M17.41 7.96l-1.37-1.37c-.4-.4-.92-.59-1.43-.59-.52 0-1.04.2-1.43.59L10.3 9.45l-7.72 7.72c-.78.78-.78 2.05 0 2.83L4 21.41c.39.39.9.59 1.41.59.51 0 1.02-.2 1.41-.59l7.78-7.78 2.81-2.81c.8-.78.8-2.07 0-2.86zM5.41 20L4 18.59l7.72-7.72 1.47 1.35L5.41 20z\"/>\n",
              "  </svg>\n",
              "      </button>\n",
              "      \n",
              "  <style>\n",
              "    .colab-df-container {\n",
              "      display:flex;\n",
              "      flex-wrap:wrap;\n",
              "      gap: 12px;\n",
              "    }\n",
              "\n",
              "    .colab-df-convert {\n",
              "      background-color: #E8F0FE;\n",
              "      border: none;\n",
              "      border-radius: 50%;\n",
              "      cursor: pointer;\n",
              "      display: none;\n",
              "      fill: #1967D2;\n",
              "      height: 32px;\n",
              "      padding: 0 0 0 0;\n",
              "      width: 32px;\n",
              "    }\n",
              "\n",
              "    .colab-df-convert:hover {\n",
              "      background-color: #E2EBFA;\n",
              "      box-shadow: 0px 1px 2px rgba(60, 64, 67, 0.3), 0px 1px 3px 1px rgba(60, 64, 67, 0.15);\n",
              "      fill: #174EA6;\n",
              "    }\n",
              "\n",
              "    [theme=dark] .colab-df-convert {\n",
              "      background-color: #3B4455;\n",
              "      fill: #D2E3FC;\n",
              "    }\n",
              "\n",
              "    [theme=dark] .colab-df-convert:hover {\n",
              "      background-color: #434B5C;\n",
              "      box-shadow: 0px 1px 3px 1px rgba(0, 0, 0, 0.15);\n",
              "      filter: drop-shadow(0px 1px 2px rgba(0, 0, 0, 0.3));\n",
              "      fill: #FFFFFF;\n",
              "    }\n",
              "  </style>\n",
              "\n",
              "      <script>\n",
              "        const buttonEl =\n",
              "          document.querySelector('#df-12567c81-ab68-4b81-9d34-357cd3b8e2a3 button.colab-df-convert');\n",
              "        buttonEl.style.display =\n",
              "          google.colab.kernel.accessAllowed ? 'block' : 'none';\n",
              "\n",
              "        async function convertToInteractive(key) {\n",
              "          const element = document.querySelector('#df-12567c81-ab68-4b81-9d34-357cd3b8e2a3');\n",
              "          const dataTable =\n",
              "            await google.colab.kernel.invokeFunction('convertToInteractive',\n",
              "                                                     [key], {});\n",
              "          if (!dataTable) return;\n",
              "\n",
              "          const docLinkHtml = 'Like what you see? Visit the ' +\n",
              "            '<a target=\"_blank\" href=https://colab.research.google.com/notebooks/data_table.ipynb>data table notebook</a>'\n",
              "            + ' to learn more about interactive tables.';\n",
              "          element.innerHTML = '';\n",
              "          dataTable['output_type'] = 'display_data';\n",
              "          await google.colab.output.renderOutput(dataTable, element);\n",
              "          const docLink = document.createElement('div');\n",
              "          docLink.innerHTML = docLinkHtml;\n",
              "          element.appendChild(docLink);\n",
              "        }\n",
              "      </script>\n",
              "    </div>\n",
              "  </div>\n",
              "  "
            ]
          },
          "metadata": {},
          "execution_count": 27
        }
      ]
    },
    {
      "cell_type": "code",
      "source": [
        "#Closing price vs prediction\n",
        "stock_df[['Close','Prediction']].tail(40).plot(kind='bar',figsize=(16,9))                  \n",
        "plt.grid(True)                                                        \n",
        "plt.title('Yes bank closing price vs Prediction',fontweight = 'bold')\n",
        "plt.xlabel('Date',fontsize = 16)\n",
        "plt.ylabel('Closing Stock Price in (₹)',fontsize = 16)\n",
        "plt.show()"
      ],
      "metadata": {
        "colab": {
          "base_uri": "https://localhost:8080/",
          "height": 681
        },
        "id": "IBbg5VSonJ2-",
        "outputId": "555ea236-8186-4544-e08d-fb6635f61a39"
      },
      "execution_count": 29,
      "outputs": [
        {
          "output_type": "display_data",
          "data": {
            "text/plain": [
              "<Figure size 1152x648 with 1 Axes>"
            ],
            "image/png": "[encoded data removed]"
          },
          "metadata": {}
        }
      ]
    },
    {
      "cell_type": "code",
      "source": [
        "# drop prediction field\n",
        "stock_df.drop('Prediction',axis = 1,inplace = True)"
      ],
      "metadata": {
        "id": "Fdh8kum8q5Ib"
      },
      "execution_count": 38,
      "outputs": []
    },
    {
      "cell_type": "markdown",
      "source": [
        "#**Feature Selection**"
      ],
      "metadata": {
        "id": "48BZ6W2WsgFm"
      }
    },
    {
      "cell_type": "markdown",
      "source": [
        "Now let's test for multicoolinearity and select the features which should yield best performance with our model's."
      ],
      "metadata": {
        "id": "4PeefKIUnY3T"
      }
    },
    {
      "cell_type": "code",
      "source": [
        "#Removing Multicollinearity between independent variables\n",
        "from statsmodels.stats.outliers_influence import variance_inflation_factor\n",
        "\n",
        "def calc_vif(X):\n",
        "\n",
        "  vif = pd.DataFrame()\n",
        "  vif['Variables']= X.columns\n",
        "  vif['VIF']= [variance_inflation_factor(X.values, i) for i in range(X.shape[1])]\n",
        "  return (vif)"
      ],
      "metadata": {
        "id": "o1RcmxT6o8ta"
      },
      "execution_count": 39,
      "outputs": []
    },
    {
      "cell_type": "code",
      "source": [
        "calc_vif(stock_df[[i for i in stock_df.describe().columns if i not in ['Close', 'Month', 'Year']]])"
      ],
      "metadata": {
        "colab": {
          "base_uri": "https://localhost:8080/",
          "height": 143
        },
        "id": "p6N-VeJ2pl1f",
        "outputId": "dca05818-2979-4a46-9ce9-8faf6c9bb103"
      },
      "execution_count": 41,
      "outputs": [
        {
          "output_type": "execute_result",
          "data": {
            "text/plain": [
              "  Variables         VIF\n",
              "0      Open  175.185704\n",
              "1      High  167.057523\n",
              "2       Low   71.574137"
            ],
            "text/html": [
              "\n",
              "  <div id=\"df-6c449991-6c18-4245-af5e-ef1b99f88bb9\">\n",
              "    <div class=\"colab-df-container\">\n",
              "      <div>\n",
              "<style scoped>\n",
              "    .dataframe tbody tr th:only-of-type {\n",
              "        vertical-align: middle;\n",
              "    }\n",
              "\n",
              "    .dataframe tbody tr th {\n",
              "        vertical-align: top;\n",
              "    }\n",
              "\n",
              "    .dataframe thead th {\n",
              "        text-align: right;\n",
              "    }\n",
              "</style>\n",
              "<table border=\"1\" class=\"dataframe\">\n",
              "  <thead>\n",
              "    <tr style=\"text-align: right;\">\n",
              "      <th></th>\n",
              "      <th>Variables</th>\n",
              "      <th>VIF</th>\n",
              "    </tr>\n",
              "  </thead>\n",
              "  <tbody>\n",
              "    <tr>\n",
              "      <th>0</th>\n",
              "      <td>Open</td>\n",
              "      <td>175.185704</td>\n",
              "    </tr>\n",
              "    <tr>\n",
              "      <th>1</th>\n",
              "      <td>High</td>\n",
              "      <td>167.057523</td>\n",
              "    </tr>\n",
              "    <tr>\n",
              "      <th>2</th>\n",
              "      <td>Low</td>\n",
              "      <td>71.574137</td>\n",
              "    </tr>\n",
              "  </tbody>\n",
              "</table>\n",
              "</div>\n",
              "      <button class=\"colab-df-convert\" onclick=\"convertToInteractive('df-6c449991-6c18-4245-af5e-ef1b99f88bb9')\"\n",
              "              title=\"Convert this dataframe to an interactive table.\"\n",
              "              style=\"display:none;\">\n",
              "        \n",
              "  <svg xmlns=\"http://www.w3.org/2000/svg\" height=\"24px\"viewBox=\"0 0 24 24\"\n",
              "       width=\"24px\">\n",
              "    <path d=\"M0 0h24v24H0V0z\" fill=\"none\"/>\n",
              "    <path d=\"M18.56 5.44l.94 2.06.94-2.06 2.06-.94-2.06-.94-.94-2.06-.94 2.06-2.06.94zm-11 1L8.5 8.5l.94-2.06 2.06-.94-2.06-.94L8.5 2.5l-.94 2.06-2.06.94zm10 10l.94 2.06.94-2.06 2.06-.94-2.06-.94-.94-2.06-.94 2.06-2.06.94z\"/><path d=\"M17.41 7.96l-1.37-1.37c-.4-.4-.92-.59-1.43-.59-.52 0-1.04.2-1.43.59L10.3 9.45l-7.72 7.72c-.78.78-.78 2.05 0 2.83L4 21.41c.39.39.9.59 1.41.59.51 0 1.02-.2 1.41-.59l7.78-7.78 2.81-2.81c.8-.78.8-2.07 0-2.86zM5.41 20L4 18.59l7.72-7.72 1.47 1.35L5.41 20z\"/>\n",
              "  </svg>\n",
              "      </button>\n",
              "      \n",
              "  <style>\n",
              "    .colab-df-container {\n",
              "      display:flex;\n",
              "      flex-wrap:wrap;\n",
              "      gap: 12px;\n",
              "    }\n",
              "\n",
              "    .colab-df-convert {\n",
              "      background-color: #E8F0FE;\n",
              "      border: none;\n",
              "      border-radius: 50%;\n",
              "      cursor: pointer;\n",
              "      display: none;\n",
              "      fill: #1967D2;\n",
              "      height: 32px;\n",
              "      padding: 0 0 0 0;\n",
              "      width: 32px;\n",
              "    }\n",
              "\n",
              "    .colab-df-convert:hover {\n",
              "      background-color: #E2EBFA;\n",
              "      box-shadow: 0px 1px 2px rgba(60, 64, 67, 0.3), 0px 1px 3px 1px rgba(60, 64, 67, 0.15);\n",
              "      fill: #174EA6;\n",
              "    }\n",
              "\n",
              "    [theme=dark] .colab-df-convert {\n",
              "      background-color: #3B4455;\n",
              "      fill: #D2E3FC;\n",
              "    }\n",
              "\n",
              "    [theme=dark] .colab-df-convert:hover {\n",
              "      background-color: #434B5C;\n",
              "      box-shadow: 0px 1px 3px 1px rgba(0, 0, 0, 0.15);\n",
              "      filter: drop-shadow(0px 1px 2px rgba(0, 0, 0, 0.3));\n",
              "      fill: #FFFFFF;\n",
              "    }\n",
              "  </style>\n",
              "\n",
              "      <script>\n",
              "        const buttonEl =\n",
              "          document.querySelector('#df-6c449991-6c18-4245-af5e-ef1b99f88bb9 button.colab-df-convert');\n",
              "        buttonEl.style.display =\n",
              "          google.colab.kernel.accessAllowed ? 'block' : 'none';\n",
              "\n",
              "        async function convertToInteractive(key) {\n",
              "          const element = document.querySelector('#df-6c449991-6c18-4245-af5e-ef1b99f88bb9');\n",
              "          const dataTable =\n",
              "            await google.colab.kernel.invokeFunction('convertToInteractive',\n",
              "                                                     [key], {});\n",
              "          if (!dataTable) return;\n",
              "\n",
              "          const docLinkHtml = 'Like what you see? Visit the ' +\n",
              "            '<a target=\"_blank\" href=https://colab.research.google.com/notebooks/data_table.ipynb>data table notebook</a>'\n",
              "            + ' to learn more about interactive tables.';\n",
              "          element.innerHTML = '';\n",
              "          dataTable['output_type'] = 'display_data';\n",
              "          await google.colab.output.renderOutput(dataTable, element);\n",
              "          const docLink = document.createElement('div');\n",
              "          docLink.innerHTML = docLinkHtml;\n",
              "          element.appendChild(docLink);\n",
              "        }\n",
              "      </script>\n",
              "    </div>\n",
              "  </div>\n",
              "  "
            ]
          },
          "metadata": {},
          "execution_count": 41
        }
      ]
    },
    {
      "cell_type": "markdown",
      "source": [
        "Since 'Open' column has the highest VIF so let's drop it first and recheck for VIF again."
      ],
      "metadata": {
        "id": "DgttZruiqTlL"
      }
    },
    {
      "cell_type": "code",
      "source": [
        "stock_df.drop('Open', axis= 1, inplace= True)"
      ],
      "metadata": {
        "id": "QX-he18brwFq"
      },
      "execution_count": 42,
      "outputs": []
    },
    {
      "cell_type": "code",
      "source": [
        "calc_vif(stock_df[[i for i in stock_df.describe().columns if i not in ['Close', 'Month', 'Year']]])"
      ],
      "metadata": {
        "colab": {
          "base_uri": "https://localhost:8080/",
          "height": 112
        },
        "id": "6gbAJa9Jr4Jo",
        "outputId": "6684b698-30fc-4af1-dfb5-fe12528908f2"
      },
      "execution_count": 43,
      "outputs": [
        {
          "output_type": "execute_result",
          "data": {
            "text/plain": [
              "  Variables        VIF\n",
              "0      High  62.598129\n",
              "1       Low  62.598129"
            ],
            "text/html": [
              "\n",
              "  <div id=\"df-586fcd05-1fea-4665-814b-ba87ce76e72f\">\n",
              "    <div class=\"colab-df-container\">\n",
              "      <div>\n",
              "<style scoped>\n",
              "    .dataframe tbody tr th:only-of-type {\n",
              "        vertical-align: middle;\n",
              "    }\n",
              "\n",
              "    .dataframe tbody tr th {\n",
              "        vertical-align: top;\n",
              "    }\n",
              "\n",
              "    .dataframe thead th {\n",
              "        text-align: right;\n",
              "    }\n",
              "</style>\n",
              "<table border=\"1\" class=\"dataframe\">\n",
              "  <thead>\n",
              "    <tr style=\"text-align: right;\">\n",
              "      <th></th>\n",
              "      <th>Variables</th>\n",
              "      <th>VIF</th>\n",
              "    </tr>\n",
              "  </thead>\n",
              "  <tbody>\n",
              "    <tr>\n",
              "      <th>0</th>\n",
              "      <td>High</td>\n",
              "      <td>62.598129</td>\n",
              "    </tr>\n",
              "    <tr>\n",
              "      <th>1</th>\n",
              "      <td>Low</td>\n",
              "      <td>62.598129</td>\n",
              "    </tr>\n",
              "  </tbody>\n",
              "</table>\n",
              "</div>\n",
              "      <button class=\"colab-df-convert\" onclick=\"convertToInteractive('df-586fcd05-1fea-4665-814b-ba87ce76e72f')\"\n",
              "              title=\"Convert this dataframe to an interactive table.\"\n",
              "              style=\"display:none;\">\n",
              "        \n",
              "  <svg xmlns=\"http://www.w3.org/2000/svg\" height=\"24px\"viewBox=\"0 0 24 24\"\n",
              "       width=\"24px\">\n",
              "    <path d=\"M0 0h24v24H0V0z\" fill=\"none\"/>\n",
              "    <path d=\"M18.56 5.44l.94 2.06.94-2.06 2.06-.94-2.06-.94-.94-2.06-.94 2.06-2.06.94zm-11 1L8.5 8.5l.94-2.06 2.06-.94-2.06-.94L8.5 2.5l-.94 2.06-2.06.94zm10 10l.94 2.06.94-2.06 2.06-.94-2.06-.94-.94-2.06-.94 2.06-2.06.94z\"/><path d=\"M17.41 7.96l-1.37-1.37c-.4-.4-.92-.59-1.43-.59-.52 0-1.04.2-1.43.59L10.3 9.45l-7.72 7.72c-.78.78-.78 2.05 0 2.83L4 21.41c.39.39.9.59 1.41.59.51 0 1.02-.2 1.41-.59l7.78-7.78 2.81-2.81c.8-.78.8-2.07 0-2.86zM5.41 20L4 18.59l7.72-7.72 1.47 1.35L5.41 20z\"/>\n",
              "  </svg>\n",
              "      </button>\n",
              "      \n",
              "  <style>\n",
              "    .colab-df-container {\n",
              "      display:flex;\n",
              "      flex-wrap:wrap;\n",
              "      gap: 12px;\n",
              "    }\n",
              "\n",
              "    .colab-df-convert {\n",
              "      background-color: #E8F0FE;\n",
              "      border: none;\n",
              "      border-radius: 50%;\n",
              "      cursor: pointer;\n",
              "      display: none;\n",
              "      fill: #1967D2;\n",
              "      height: 32px;\n",
              "      padding: 0 0 0 0;\n",
              "      width: 32px;\n",
              "    }\n",
              "\n",
              "    .colab-df-convert:hover {\n",
              "      background-color: #E2EBFA;\n",
              "      box-shadow: 0px 1px 2px rgba(60, 64, 67, 0.3), 0px 1px 3px 1px rgba(60, 64, 67, 0.15);\n",
              "      fill: #174EA6;\n",
              "    }\n",
              "\n",
              "    [theme=dark] .colab-df-convert {\n",
              "      background-color: #3B4455;\n",
              "      fill: #D2E3FC;\n",
              "    }\n",
              "\n",
              "    [theme=dark] .colab-df-convert:hover {\n",
              "      background-color: #434B5C;\n",
              "      box-shadow: 0px 1px 3px 1px rgba(0, 0, 0, 0.15);\n",
              "      filter: drop-shadow(0px 1px 2px rgba(0, 0, 0, 0.3));\n",
              "      fill: #FFFFFF;\n",
              "    }\n",
              "  </style>\n",
              "\n",
              "      <script>\n",
              "        const buttonEl =\n",
              "          document.querySelector('#df-586fcd05-1fea-4665-814b-ba87ce76e72f button.colab-df-convert');\n",
              "        buttonEl.style.display =\n",
              "          google.colab.kernel.accessAllowed ? 'block' : 'none';\n",
              "\n",
              "        async function convertToInteractive(key) {\n",
              "          const element = document.querySelector('#df-586fcd05-1fea-4665-814b-ba87ce76e72f');\n",
              "          const dataTable =\n",
              "            await google.colab.kernel.invokeFunction('convertToInteractive',\n",
              "                                                     [key], {});\n",
              "          if (!dataTable) return;\n",
              "\n",
              "          const docLinkHtml = 'Like what you see? Visit the ' +\n",
              "            '<a target=\"_blank\" href=https://colab.research.google.com/notebooks/data_table.ipynb>data table notebook</a>'\n",
              "            + ' to learn more about interactive tables.';\n",
              "          element.innerHTML = '';\n",
              "          dataTable['output_type'] = 'display_data';\n",
              "          await google.colab.output.renderOutput(dataTable, element);\n",
              "          const docLink = document.createElement('div');\n",
              "          docLink.innerHTML = docLinkHtml;\n",
              "          element.appendChild(docLink);\n",
              "        }\n",
              "      </script>\n",
              "    </div>\n",
              "  </div>\n",
              "  "
            ]
          },
          "metadata": {},
          "execution_count": 43
        }
      ]
    },
    {
      "cell_type": "markdown",
      "source": [
        "In this case let's drop the **High** column as **Low** is slightly more coorelated with our Dependent Variable **Close**."
      ],
      "metadata": {
        "id": "QHRuiL38r6OT"
      }
    },
    {
      "cell_type": "code",
      "source": [
        "stock_df.drop('High', axis= 1, inplace= True)"
      ],
      "metadata": {
        "id": "Ra8kcMBUsDod"
      },
      "execution_count": 44,
      "outputs": []
    },
    {
      "cell_type": "code",
      "source": [
        "stock_df.head()"
      ],
      "metadata": {
        "colab": {
          "base_uri": "https://localhost:8080/",
          "height": 237
        },
        "id": "zDb8tBCVsTNX",
        "outputId": "9358f573-bdaa-4733-8924-cc6ec44de1a7"
      },
      "execution_count": 46,
      "outputs": [
        {
          "output_type": "execute_result",
          "data": {
            "text/plain": [
              "              Low  Close  Month  Year\n",
              "Date                                 \n",
              "2005-07-01  11.25  12.46      7  2005\n",
              "2005-08-01  12.55  13.42      8  2005\n",
              "2005-09-01  12.27  13.30      9  2005\n",
              "2005-10-01  12.40  12.99     10  2005\n",
              "2005-11-01  12.88  13.41     11  2005"
            ],
            "text/html": [
              "\n",
              "  <div id=\"df-273637cd-024f-45a6-ab0e-8affdf74eb1e\">\n",
              "    <div class=\"colab-df-container\">\n",
              "      <div>\n",
              "<style scoped>\n",
              "    .dataframe tbody tr th:only-of-type {\n",
              "        vertical-align: middle;\n",
              "    }\n",
              "\n",
              "    .dataframe tbody tr th {\n",
              "        vertical-align: top;\n",
              "    }\n",
              "\n",
              "    .dataframe thead th {\n",
              "        text-align: right;\n",
              "    }\n",
              "</style>\n",
              "<table border=\"1\" class=\"dataframe\">\n",
              "  <thead>\n",
              "    <tr style=\"text-align: right;\">\n",
              "      <th></th>\n",
              "      <th>Low</th>\n",
              "      <th>Close</th>\n",
              "      <th>Month</th>\n",
              "      <th>Year</th>\n",
              "    </tr>\n",
              "    <tr>\n",
              "      <th>Date</th>\n",
              "      <th></th>\n",
              "      <th></th>\n",
              "      <th></th>\n",
              "      <th></th>\n",
              "    </tr>\n",
              "  </thead>\n",
              "  <tbody>\n",
              "    <tr>\n",
              "      <th>2005-07-01</th>\n",
              "      <td>11.25</td>\n",
              "      <td>12.46</td>\n",
              "      <td>7</td>\n",
              "      <td>2005</td>\n",
              "    </tr>\n",
              "    <tr>\n",
              "      <th>2005-08-01</th>\n",
              "      <td>12.55</td>\n",
              "      <td>13.42</td>\n",
              "      <td>8</td>\n",
              "      <td>2005</td>\n",
              "    </tr>\n",
              "    <tr>\n",
              "      <th>2005-09-01</th>\n",
              "      <td>12.27</td>\n",
              "      <td>13.30</td>\n",
              "      <td>9</td>\n",
              "      <td>2005</td>\n",
              "    </tr>\n",
              "    <tr>\n",
              "      <th>2005-10-01</th>\n",
              "      <td>12.40</td>\n",
              "      <td>12.99</td>\n",
              "      <td>10</td>\n",
              "      <td>2005</td>\n",
              "    </tr>\n",
              "    <tr>\n",
              "      <th>2005-11-01</th>\n",
              "      <td>12.88</td>\n",
              "      <td>13.41</td>\n",
              "      <td>11</td>\n",
              "      <td>2005</td>\n",
              "    </tr>\n",
              "  </tbody>\n",
              "</table>\n",
              "</div>\n",
              "      <button class=\"colab-df-convert\" onclick=\"convertToInteractive('df-273637cd-024f-45a6-ab0e-8affdf74eb1e')\"\n",
              "              title=\"Convert this dataframe to an interactive table.\"\n",
              "              style=\"display:none;\">\n",
              "        \n",
              "  <svg xmlns=\"http://www.w3.org/2000/svg\" height=\"24px\"viewBox=\"0 0 24 24\"\n",
              "       width=\"24px\">\n",
              "    <path d=\"M0 0h24v24H0V0z\" fill=\"none\"/>\n",
              "    <path d=\"M18.56 5.44l.94 2.06.94-2.06 2.06-.94-2.06-.94-.94-2.06-.94 2.06-2.06.94zm-11 1L8.5 8.5l.94-2.06 2.06-.94-2.06-.94L8.5 2.5l-.94 2.06-2.06.94zm10 10l.94 2.06.94-2.06 2.06-.94-2.06-.94-.94-2.06-.94 2.06-2.06.94z\"/><path d=\"M17.41 7.96l-1.37-1.37c-.4-.4-.92-.59-1.43-.59-.52 0-1.04.2-1.43.59L10.3 9.45l-7.72 7.72c-.78.78-.78 2.05 0 2.83L4 21.41c.39.39.9.59 1.41.59.51 0 1.02-.2 1.41-.59l7.78-7.78 2.81-2.81c.8-.78.8-2.07 0-2.86zM5.41 20L4 18.59l7.72-7.72 1.47 1.35L5.41 20z\"/>\n",
              "  </svg>\n",
              "      </button>\n",
              "      \n",
              "  <style>\n",
              "    .colab-df-container {\n",
              "      display:flex;\n",
              "      flex-wrap:wrap;\n",
              "      gap: 12px;\n",
              "    }\n",
              "\n",
              "    .colab-df-convert {\n",
              "      background-color: #E8F0FE;\n",
              "      border: none;\n",
              "      border-radius: 50%;\n",
              "      cursor: pointer;\n",
              "      display: none;\n",
              "      fill: #1967D2;\n",
              "      height: 32px;\n",
              "      padding: 0 0 0 0;\n",
              "      width: 32px;\n",
              "    }\n",
              "\n",
              "    .colab-df-convert:hover {\n",
              "      background-color: #E2EBFA;\n",
              "      box-shadow: 0px 1px 2px rgba(60, 64, 67, 0.3), 0px 1px 3px 1px rgba(60, 64, 67, 0.15);\n",
              "      fill: #174EA6;\n",
              "    }\n",
              "\n",
              "    [theme=dark] .colab-df-convert {\n",
              "      background-color: #3B4455;\n",
              "      fill: #D2E3FC;\n",
              "    }\n",
              "\n",
              "    [theme=dark] .colab-df-convert:hover {\n",
              "      background-color: #434B5C;\n",
              "      box-shadow: 0px 1px 3px 1px rgba(0, 0, 0, 0.15);\n",
              "      filter: drop-shadow(0px 1px 2px rgba(0, 0, 0, 0.3));\n",
              "      fill: #FFFFFF;\n",
              "    }\n",
              "  </style>\n",
              "\n",
              "      <script>\n",
              "        const buttonEl =\n",
              "          document.querySelector('#df-273637cd-024f-45a6-ab0e-8affdf74eb1e button.colab-df-convert');\n",
              "        buttonEl.style.display =\n",
              "          google.colab.kernel.accessAllowed ? 'block' : 'none';\n",
              "\n",
              "        async function convertToInteractive(key) {\n",
              "          const element = document.querySelector('#df-273637cd-024f-45a6-ab0e-8affdf74eb1e');\n",
              "          const dataTable =\n",
              "            await google.colab.kernel.invokeFunction('convertToInteractive',\n",
              "                                                     [key], {});\n",
              "          if (!dataTable) return;\n",
              "\n",
              "          const docLinkHtml = 'Like what you see? Visit the ' +\n",
              "            '<a target=\"_blank\" href=https://colab.research.google.com/notebooks/data_table.ipynb>data table notebook</a>'\n",
              "            + ' to learn more about interactive tables.';\n",
              "          element.innerHTML = '';\n",
              "          dataTable['output_type'] = 'display_data';\n",
              "          await google.colab.output.renderOutput(dataTable, element);\n",
              "          const docLink = document.createElement('div');\n",
              "          docLink.innerHTML = docLinkHtml;\n",
              "          element.appendChild(docLink);\n",
              "        }\n",
              "      </script>\n",
              "    </div>\n",
              "  </div>\n",
              "  "
            ]
          },
          "metadata": {},
          "execution_count": 46
        }
      ]
    },
    {
      "cell_type": "markdown",
      "source": [
        "After testing for Multicoolinearity with the dependent Variable **Close**, we are left with following independent variables **Low**, **Month**, **Year**"
      ],
      "metadata": {
        "id": "HcI0PUQbsWJY"
      }
    },
    {
      "cell_type": "markdown",
      "source": [
        "#**One Hot Encoding**"
      ],
      "metadata": {
        "id": "Re9AY0yltJx9"
      }
    },
    {
      "cell_type": "markdown",
      "source": [
        "One-hot encoding is the process by which categorical data are converted into numerical data for use in machine learning. Categorical features are turned into binary features that are “one-hot” encoded, meaning that if a feature is represented by that column, it receives a 1. Otherwise, it receives a 0."
      ],
      "metadata": {
        "id": "nrU8tPzUviA7"
      }
    },
    {
      "cell_type": "markdown",
      "source": [
        "**This is perhaps better explained by an image:**"
      ],
      "metadata": {
        "id": "tmPAjHl6wBvp"
      }
    },
    {
      "cell_type": "markdown",
      "source": [
        "![One-Hot-Encoding-for-Scikit-Learn-in-Python-Explained-1536x864.png](data:image/png;base64,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)"
      ],
      "metadata": {
        "id": "HzRnOyu0vm2f"
      }
    },
    {
      "cell_type": "code",
      "source": [
        "##One hot encoding of Year column\n",
        "dataset_pr = pd.get_dummies(stock_df, columns=[\"Year\"])"
      ],
      "metadata": {
        "id": "Le0gbwWjv5PB"
      },
      "execution_count": 47,
      "outputs": []
    },
    {
      "cell_type": "code",
      "source": [
        "dataset_pr.head()"
      ],
      "metadata": {
        "colab": {
          "base_uri": "https://localhost:8080/",
          "height": 388
        },
        "id": "XHmYr5O5wTyX",
        "outputId": "2726bde7-5be0-4e2d-9688-c0eae8b8519c"
      },
      "execution_count": 48,
      "outputs": [
        {
          "output_type": "execute_result",
          "data": {
            "text/plain": [
              "              Low  Close  Month  Year_2005  Year_2006  Year_2007  Year_2008  \\\n",
              "Date                                                                          \n",
              "2005-07-01  11.25  12.46      7          1          0          0          0   \n",
              "2005-08-01  12.55  13.42      8          1          0          0          0   \n",
              "2005-09-01  12.27  13.30      9          1          0          0          0   \n",
              "2005-10-01  12.40  12.99     10          1          0          0          0   \n",
              "2005-11-01  12.88  13.41     11          1          0          0          0   \n",
              "\n",
              "            Year_2009  Year_2010  Year_2011  Year_2012  Year_2013  Year_2014  \\\n",
              "Date                                                                           \n",
              "2005-07-01          0          0          0          0          0          0   \n",
              "2005-08-01          0          0          0          0          0          0   \n",
              "2005-09-01          0          0          0          0          0          0   \n",
              "2005-10-01          0          0          0          0          0          0   \n",
              "2005-11-01          0          0          0          0          0          0   \n",
              "\n",
              "            Year_2015  Year_2016  Year_2017  Year_2018  Year_2019  Year_2020  \n",
              "Date                                                                          \n",
              "2005-07-01          0          0          0          0          0          0  \n",
              "2005-08-01          0          0          0          0          0          0  \n",
              "2005-09-01          0          0          0          0          0          0  \n",
              "2005-10-01          0          0          0          0          0          0  \n",
              "2005-11-01          0          0          0          0          0          0  "
            ],
            "text/html": [
              "\n",
              "  <div id=\"df-5272b075-4da0-4933-953f-5b43521cb4d6\">\n",
              "    <div class=\"colab-df-container\">\n",
              "      <div>\n",
              "<style scoped>\n",
              "    .dataframe tbody tr th:only-of-type {\n",
              "        vertical-align: middle;\n",
              "    }\n",
              "\n",
              "    .dataframe tbody tr th {\n",
              "        vertical-align: top;\n",
              "    }\n",
              "\n",
              "    .dataframe thead th {\n",
              "        text-align: right;\n",
              "    }\n",
              "</style>\n",
              "<table border=\"1\" class=\"dataframe\">\n",
              "  <thead>\n",
              "    <tr style=\"text-align: right;\">\n",
              "      <th></th>\n",
              "      <th>Low</th>\n",
              "      <th>Close</th>\n",
              "      <th>Month</th>\n",
              "      <th>Year_2005</th>\n",
              "      <th>Year_2006</th>\n",
              "      <th>Year_2007</th>\n",
              "      <th>Year_2008</th>\n",
              "      <th>Year_2009</th>\n",
              "      <th>Year_2010</th>\n",
              "      <th>Year_2011</th>\n",
              "      <th>Year_2012</th>\n",
              "      <th>Year_2013</th>\n",
              "      <th>Year_2014</th>\n",
              "      <th>Year_2015</th>\n",
              "      <th>Year_2016</th>\n",
              "      <th>Year_2017</th>\n",
              "      <th>Year_2018</th>\n",
              "      <th>Year_2019</th>\n",
              "      <th>Year_2020</th>\n",
              "    </tr>\n",
              "    <tr>\n",
              "      <th>Date</th>\n",
              "      <th></th>\n",
              "      <th></th>\n",
              "      <th></th>\n",
              "      <th></th>\n",
              "      <th></th>\n",
              "      <th></th>\n",
              "      <th></th>\n",
              "      <th></th>\n",
              "      <th></th>\n",
              "      <th></th>\n",
              "      <th></th>\n",
              "      <th></th>\n",
              "      <th></th>\n",
              "      <th></th>\n",
              "      <th></th>\n",
              "      <th></th>\n",
              "      <th></th>\n",
              "      <th></th>\n",
              "      <th></th>\n",
              "    </tr>\n",
              "  </thead>\n",
              "  <tbody>\n",
              "    <tr>\n",
              "      <th>2005-07-01</th>\n",
              "      <td>11.25</td>\n",
              "      <td>12.46</td>\n",
              "      <td>7</td>\n",
              "      <td>1</td>\n",
              "      <td>0</td>\n",
              "      <td>0</td>\n",
              "      <td>0</td>\n",
              "      <td>0</td>\n",
              "      <td>0</td>\n",
              "      <td>0</td>\n",
              "      <td>0</td>\n",
              "      <td>0</td>\n",
              "      <td>0</td>\n",
              "      <td>0</td>\n",
              "      <td>0</td>\n",
              "      <td>0</td>\n",
              "      <td>0</td>\n",
              "      <td>0</td>\n",
              "      <td>0</td>\n",
              "    </tr>\n",
              "    <tr>\n",
              "      <th>2005-08-01</th>\n",
              "      <td>12.55</td>\n",
              "      <td>13.42</td>\n",
              "      <td>8</td>\n",
              "      <td>1</td>\n",
              "      <td>0</td>\n",
              "      <td>0</td>\n",
              "      <td>0</td>\n",
              "      <td>0</td>\n",
              "      <td>0</td>\n",
              "      <td>0</td>\n",
              "      <td>0</td>\n",
              "      <td>0</td>\n",
              "      <td>0</td>\n",
              "      <td>0</td>\n",
              "      <td>0</td>\n",
              "      <td>0</td>\n",
              "      <td>0</td>\n",
              "      <td>0</td>\n",
              "      <td>0</td>\n",
              "    </tr>\n",
              "    <tr>\n",
              "      <th>2005-09-01</th>\n",
              "      <td>12.27</td>\n",
              "      <td>13.30</td>\n",
              "      <td>9</td>\n",
              "      <td>1</td>\n",
              "      <td>0</td>\n",
              "      <td>0</td>\n",
              "      <td>0</td>\n",
              "      <td>0</td>\n",
              "      <td>0</td>\n",
              "      <td>0</td>\n",
              "      <td>0</td>\n",
              "      <td>0</td>\n",
              "      <td>0</td>\n",
              "      <td>0</td>\n",
              "      <td>0</td>\n",
              "      <td>0</td>\n",
              "      <td>0</td>\n",
              "      <td>0</td>\n",
              "      <td>0</td>\n",
              "    </tr>\n",
              "    <tr>\n",
              "      <th>2005-10-01</th>\n",
              "      <td>12.40</td>\n",
              "      <td>12.99</td>\n",
              "      <td>10</td>\n",
              "      <td>1</td>\n",
              "      <td>0</td>\n",
              "      <td>0</td>\n",
              "      <td>0</td>\n",
              "      <td>0</td>\n",
              "      <td>0</td>\n",
              "      <td>0</td>\n",
              "      <td>0</td>\n",
              "      <td>0</td>\n",
              "      <td>0</td>\n",
              "      <td>0</td>\n",
              "      <td>0</td>\n",
              "      <td>0</td>\n",
              "      <td>0</td>\n",
              "      <td>0</td>\n",
              "      <td>0</td>\n",
              "    </tr>\n",
              "    <tr>\n",
              "      <th>2005-11-01</th>\n",
              "      <td>12.88</td>\n",
              "      <td>13.41</td>\n",
              "      <td>11</td>\n",
              "      <td>1</td>\n",
              "      <td>0</td>\n",
              "      <td>0</td>\n",
              "      <td>0</td>\n",
              "      <td>0</td>\n",
              "      <td>0</td>\n",
              "      <td>0</td>\n",
              "      <td>0</td>\n",
              "      <td>0</td>\n",
              "      <td>0</td>\n",
              "      <td>0</td>\n",
              "      <td>0</td>\n",
              "      <td>0</td>\n",
              "      <td>0</td>\n",
              "      <td>0</td>\n",
              "      <td>0</td>\n",
              "    </tr>\n",
              "  </tbody>\n",
              "</table>\n",
              "</div>\n",
              "      <button class=\"colab-df-convert\" onclick=\"convertToInteractive('df-5272b075-4da0-4933-953f-5b43521cb4d6')\"\n",
              "              title=\"Convert this dataframe to an interactive table.\"\n",
              "              style=\"display:none;\">\n",
              "        \n",
              "  <svg xmlns=\"http://www.w3.org/2000/svg\" height=\"24px\"viewBox=\"0 0 24 24\"\n",
              "       width=\"24px\">\n",
              "    <path d=\"M0 0h24v24H0V0z\" fill=\"none\"/>\n",
              "    <path d=\"M18.56 5.44l.94 2.06.94-2.06 2.06-.94-2.06-.94-.94-2.06-.94 2.06-2.06.94zm-11 1L8.5 8.5l.94-2.06 2.06-.94-2.06-.94L8.5 2.5l-.94 2.06-2.06.94zm10 10l.94 2.06.94-2.06 2.06-.94-2.06-.94-.94-2.06-.94 2.06-2.06.94z\"/><path d=\"M17.41 7.96l-1.37-1.37c-.4-.4-.92-.59-1.43-.59-.52 0-1.04.2-1.43.59L10.3 9.45l-7.72 7.72c-.78.78-.78 2.05 0 2.83L4 21.41c.39.39.9.59 1.41.59.51 0 1.02-.2 1.41-.59l7.78-7.78 2.81-2.81c.8-.78.8-2.07 0-2.86zM5.41 20L4 18.59l7.72-7.72 1.47 1.35L5.41 20z\"/>\n",
              "  </svg>\n",
              "      </button>\n",
              "      \n",
              "  <style>\n",
              "    .colab-df-container {\n",
              "      display:flex;\n",
              "      flex-wrap:wrap;\n",
              "      gap: 12px;\n",
              "    }\n",
              "\n",
              "    .colab-df-convert {\n",
              "      background-color: #E8F0FE;\n",
              "      border: none;\n",
              "      border-radius: 50%;\n",
              "      cursor: pointer;\n",
              "      display: none;\n",
              "      fill: #1967D2;\n",
              "      height: 32px;\n",
              "      padding: 0 0 0 0;\n",
              "      width: 32px;\n",
              "    }\n",
              "\n",
              "    .colab-df-convert:hover {\n",
              "      background-color: #E2EBFA;\n",
              "      box-shadow: 0px 1px 2px rgba(60, 64, 67, 0.3), 0px 1px 3px 1px rgba(60, 64, 67, 0.15);\n",
              "      fill: #174EA6;\n",
              "    }\n",
              "\n",
              "    [theme=dark] .colab-df-convert {\n",
              "      background-color: #3B4455;\n",
              "      fill: #D2E3FC;\n",
              "    }\n",
              "\n",
              "    [theme=dark] .colab-df-convert:hover {\n",
              "      background-color: #434B5C;\n",
              "      box-shadow: 0px 1px 3px 1px rgba(0, 0, 0, 0.15);\n",
              "      filter: drop-shadow(0px 1px 2px rgba(0, 0, 0, 0.3));\n",
              "      fill: #FFFFFF;\n",
              "    }\n",
              "  </style>\n",
              "\n",
              "      <script>\n",
              "        const buttonEl =\n",
              "          document.querySelector('#df-5272b075-4da0-4933-953f-5b43521cb4d6 button.colab-df-convert');\n",
              "        buttonEl.style.display =\n",
              "          google.colab.kernel.accessAllowed ? 'block' : 'none';\n",
              "\n",
              "        async function convertToInteractive(key) {\n",
              "          const element = document.querySelector('#df-5272b075-4da0-4933-953f-5b43521cb4d6');\n",
              "          const dataTable =\n",
              "            await google.colab.kernel.invokeFunction('convertToInteractive',\n",
              "                                                     [key], {});\n",
              "          if (!dataTable) return;\n",
              "\n",
              "          const docLinkHtml = 'Like what you see? Visit the ' +\n",
              "            '<a target=\"_blank\" href=https://colab.research.google.com/notebooks/data_table.ipynb>data table notebook</a>'\n",
              "            + ' to learn more about interactive tables.';\n",
              "          element.innerHTML = '';\n",
              "          dataTable['output_type'] = 'display_data';\n",
              "          await google.colab.output.renderOutput(dataTable, element);\n",
              "          const docLink = document.createElement('div');\n",
              "          docLink.innerHTML = docLinkHtml;\n",
              "          element.appendChild(docLink);\n",
              "        }\n",
              "      </script>\n",
              "    </div>\n",
              "  </div>\n",
              "  "
            ]
          },
          "metadata": {},
          "execution_count": 48
        }
      ]
    },
    {
      "cell_type": "markdown",
      "source": [
        "Great! After \"One HOt Encoding\", we can now use the categories in 'Year' column as an individual features for our model."
      ],
      "metadata": {
        "id": "qBeiitPjwcY8"
      }
    },
    {
      "cell_type": "markdown",
      "source": [
        "##**Standardizing the data**"
      ],
      "metadata": {
        "id": "N1fcHOZQx6f1"
      }
    },
    {
      "cell_type": "code",
      "source": [
        "independent_features= [col for col in dataset_pr if col not in ['Close', 'Month']]\n",
        "len(independent_features)"
      ],
      "metadata": {
        "colab": {
          "base_uri": "https://localhost:8080/"
        },
        "id": "i1UFPMLZwXB8",
        "outputId": "072612ca-0fb7-4c91-b0d9-f0651f669d83"
      },
      "execution_count": 50,
      "outputs": [
        {
          "output_type": "execute_result",
          "data": {
            "text/plain": [
              "17"
            ]
          },
          "metadata": {},
          "execution_count": 50
        }
      ]
    },
    {
      "cell_type": "code",
      "source": [
        "#applying zscore to selected independent variables \n",
        "X = round(dataset_pr[independent_features].apply(zscore),3)\n",
        "\n",
        "#applying log on dependent variable \n",
        "y = np.log10(dataset_pr['Close'])"
      ],
      "metadata": {
        "id": "mW37i-ARyTsQ"
      },
      "execution_count": 53,
      "outputs": []
    },
    {
      "cell_type": "code",
      "source": [
        "X.head()"
      ],
      "metadata": {
        "colab": {
          "base_uri": "https://localhost:8080/",
          "height": 388
        },
        "id": "5MZghxsXy4tT",
        "outputId": "6958b2ec-72b9-4dd3-b823-889ba191cde3"
      },
      "execution_count": 55,
      "outputs": [
        {
          "output_type": "execute_result",
          "data": {
            "text/plain": [
              "              Low  Year_2005  Year_2006  Year_2007  Year_2008  Year_2009  \\\n",
              "Date                                                                       \n",
              "2005-07-01 -0.920      5.462     -0.263     -0.263     -0.263     -0.263   \n",
              "2005-08-01 -0.906      5.462     -0.263     -0.263     -0.263     -0.263   \n",
              "2005-09-01 -0.909      5.462     -0.263     -0.263     -0.263     -0.263   \n",
              "2005-10-01 -0.907      5.462     -0.263     -0.263     -0.263     -0.263   \n",
              "2005-11-01 -0.902      5.462     -0.263     -0.263     -0.263     -0.263   \n",
              "\n",
              "            Year_2010  Year_2011  Year_2012  Year_2013  Year_2014  Year_2015  \\\n",
              "Date                                                                           \n",
              "2005-07-01     -0.263     -0.263     -0.263     -0.263     -0.263     -0.263   \n",
              "2005-08-01     -0.263     -0.263     -0.263     -0.263     -0.263     -0.263   \n",
              "2005-09-01     -0.263     -0.263     -0.263     -0.263     -0.263     -0.263   \n",
              "2005-10-01     -0.263     -0.263     -0.263     -0.263     -0.263     -0.263   \n",
              "2005-11-01     -0.263     -0.263     -0.263     -0.263     -0.263     -0.263   \n",
              "\n",
              "            Year_2016  Year_2017  Year_2018  Year_2019  Year_2020  \n",
              "Date                                                               \n",
              "2005-07-01     -0.263     -0.263     -0.263     -0.263     -0.251  \n",
              "2005-08-01     -0.263     -0.263     -0.263     -0.263     -0.251  \n",
              "2005-09-01     -0.263     -0.263     -0.263     -0.263     -0.251  \n",
              "2005-10-01     -0.263     -0.263     -0.263     -0.263     -0.251  \n",
              "2005-11-01     -0.263     -0.263     -0.263     -0.263     -0.251  "
            ],
            "text/html": [
              "\n",
              "  <div id=\"df-9a44ec28-f2d5-40b2-91b1-99ab7af9d6c5\">\n",
              "    <div class=\"colab-df-container\">\n",
              "      <div>\n",
              "<style scoped>\n",
              "    .dataframe tbody tr th:only-of-type {\n",
              "        vertical-align: middle;\n",
              "    }\n",
              "\n",
              "    .dataframe tbody tr th {\n",
              "        vertical-align: top;\n",
              "    }\n",
              "\n",
              "    .dataframe thead th {\n",
              "        text-align: right;\n",
              "    }\n",
              "</style>\n",
              "<table border=\"1\" class=\"dataframe\">\n",
              "  <thead>\n",
              "    <tr style=\"text-align: right;\">\n",
              "      <th></th>\n",
              "      <th>Low</th>\n",
              "      <th>Year_2005</th>\n",
              "      <th>Year_2006</th>\n",
              "      <th>Year_2007</th>\n",
              "      <th>Year_2008</th>\n",
              "      <th>Year_2009</th>\n",
              "      <th>Year_2010</th>\n",
              "      <th>Year_2011</th>\n",
              "      <th>Year_2012</th>\n",
              "      <th>Year_2013</th>\n",
              "      <th>Year_2014</th>\n",
              "      <th>Year_2015</th>\n",
              "      <th>Year_2016</th>\n",
              "      <th>Year_2017</th>\n",
              "      <th>Year_2018</th>\n",
              "      <th>Year_2019</th>\n",
              "      <th>Year_2020</th>\n",
              "    </tr>\n",
              "    <tr>\n",
              "      <th>Date</th>\n",
              "      <th></th>\n",
              "      <th></th>\n",
              "      <th></th>\n",
              "      <th></th>\n",
              "      <th></th>\n",
              "      <th></th>\n",
              "      <th></th>\n",
              "      <th></th>\n",
              "      <th></th>\n",
              "      <th></th>\n",
              "      <th></th>\n",
              "      <th></th>\n",
              "      <th></th>\n",
              "      <th></th>\n",
              "      <th></th>\n",
              "      <th></th>\n",
              "      <th></th>\n",
              "    </tr>\n",
              "  </thead>\n",
              "  <tbody>\n",
              "    <tr>\n",
              "      <th>2005-07-01</th>\n",
              "      <td>-0.920</td>\n",
              "      <td>5.462</td>\n",
              "      <td>-0.263</td>\n",
              "      <td>-0.263</td>\n",
              "      <td>-0.263</td>\n",
              "      <td>-0.263</td>\n",
              "      <td>-0.263</td>\n",
              "      <td>-0.263</td>\n",
              "      <td>-0.263</td>\n",
              "      <td>-0.263</td>\n",
              "      <td>-0.263</td>\n",
              "      <td>-0.263</td>\n",
              "      <td>-0.263</td>\n",
              "      <td>-0.263</td>\n",
              "      <td>-0.263</td>\n",
              "      <td>-0.263</td>\n",
              "      <td>-0.251</td>\n",
              "    </tr>\n",
              "    <tr>\n",
              "      <th>2005-08-01</th>\n",
              "      <td>-0.906</td>\n",
              "      <td>5.462</td>\n",
              "      <td>-0.263</td>\n",
              "      <td>-0.263</td>\n",
              "      <td>-0.263</td>\n",
              "      <td>-0.263</td>\n",
              "      <td>-0.263</td>\n",
              "      <td>-0.263</td>\n",
              "      <td>-0.263</td>\n",
              "      <td>-0.263</td>\n",
              "      <td>-0.263</td>\n",
              "      <td>-0.263</td>\n",
              "      <td>-0.263</td>\n",
              "      <td>-0.263</td>\n",
              "      <td>-0.263</td>\n",
              "      <td>-0.263</td>\n",
              "      <td>-0.251</td>\n",
              "    </tr>\n",
              "    <tr>\n",
              "      <th>2005-09-01</th>\n",
              "      <td>-0.909</td>\n",
              "      <td>5.462</td>\n",
              "      <td>-0.263</td>\n",
              "      <td>-0.263</td>\n",
              "      <td>-0.263</td>\n",
              "      <td>-0.263</td>\n",
              "      <td>-0.263</td>\n",
              "      <td>-0.263</td>\n",
              "      <td>-0.263</td>\n",
              "      <td>-0.263</td>\n",
              "      <td>-0.263</td>\n",
              "      <td>-0.263</td>\n",
              "      <td>-0.263</td>\n",
              "      <td>-0.263</td>\n",
              "      <td>-0.263</td>\n",
              "      <td>-0.263</td>\n",
              "      <td>-0.251</td>\n",
              "    </tr>\n",
              "    <tr>\n",
              "      <th>2005-10-01</th>\n",
              "      <td>-0.907</td>\n",
              "      <td>5.462</td>\n",
              "      <td>-0.263</td>\n",
              "      <td>-0.263</td>\n",
              "      <td>-0.263</td>\n",
              "      <td>-0.263</td>\n",
              "      <td>-0.263</td>\n",
              "      <td>-0.263</td>\n",
              "      <td>-0.263</td>\n",
              "      <td>-0.263</td>\n",
              "      <td>-0.263</td>\n",
              "      <td>-0.263</td>\n",
              "      <td>-0.263</td>\n",
              "      <td>-0.263</td>\n",
              "      <td>-0.263</td>\n",
              "      <td>-0.263</td>\n",
              "      <td>-0.251</td>\n",
              "    </tr>\n",
              "    <tr>\n",
              "      <th>2005-11-01</th>\n",
              "      <td>-0.902</td>\n",
              "      <td>5.462</td>\n",
              "      <td>-0.263</td>\n",
              "      <td>-0.263</td>\n",
              "      <td>-0.263</td>\n",
              "      <td>-0.263</td>\n",
              "      <td>-0.263</td>\n",
              "      <td>-0.263</td>\n",
              "      <td>-0.263</td>\n",
              "      <td>-0.263</td>\n",
              "      <td>-0.263</td>\n",
              "      <td>-0.263</td>\n",
              "      <td>-0.263</td>\n",
              "      <td>-0.263</td>\n",
              "      <td>-0.263</td>\n",
              "      <td>-0.263</td>\n",
              "      <td>-0.251</td>\n",
              "    </tr>\n",
              "  </tbody>\n",
              "</table>\n",
              "</div>\n",
              "      <button class=\"colab-df-convert\" onclick=\"convertToInteractive('df-9a44ec28-f2d5-40b2-91b1-99ab7af9d6c5')\"\n",
              "              title=\"Convert this dataframe to an interactive table.\"\n",
              "              style=\"display:none;\">\n",
              "        \n",
              "  <svg xmlns=\"http://www.w3.org/2000/svg\" height=\"24px\"viewBox=\"0 0 24 24\"\n",
              "       width=\"24px\">\n",
              "    <path d=\"M0 0h24v24H0V0z\" fill=\"none\"/>\n",
              "    <path d=\"M18.56 5.44l.94 2.06.94-2.06 2.06-.94-2.06-.94-.94-2.06-.94 2.06-2.06.94zm-11 1L8.5 8.5l.94-2.06 2.06-.94-2.06-.94L8.5 2.5l-.94 2.06-2.06.94zm10 10l.94 2.06.94-2.06 2.06-.94-2.06-.94-.94-2.06-.94 2.06-2.06.94z\"/><path d=\"M17.41 7.96l-1.37-1.37c-.4-.4-.92-.59-1.43-.59-.52 0-1.04.2-1.43.59L10.3 9.45l-7.72 7.72c-.78.78-.78 2.05 0 2.83L4 21.41c.39.39.9.59 1.41.59.51 0 1.02-.2 1.41-.59l7.78-7.78 2.81-2.81c.8-.78.8-2.07 0-2.86zM5.41 20L4 18.59l7.72-7.72 1.47 1.35L5.41 20z\"/>\n",
              "  </svg>\n",
              "      </button>\n",
              "      \n",
              "  <style>\n",
              "    .colab-df-container {\n",
              "      display:flex;\n",
              "      flex-wrap:wrap;\n",
              "      gap: 12px;\n",
              "    }\n",
              "\n",
              "    .colab-df-convert {\n",
              "      background-color: #E8F0FE;\n",
              "      border: none;\n",
              "      border-radius: 50%;\n",
              "      cursor: pointer;\n",
              "      display: none;\n",
              "      fill: #1967D2;\n",
              "      height: 32px;\n",
              "      padding: 0 0 0 0;\n",
              "      width: 32px;\n",
              "    }\n",
              "\n",
              "    .colab-df-convert:hover {\n",
              "      background-color: #E2EBFA;\n",
              "      box-shadow: 0px 1px 2px rgba(60, 64, 67, 0.3), 0px 1px 3px 1px rgba(60, 64, 67, 0.15);\n",
              "      fill: #174EA6;\n",
              "    }\n",
              "\n",
              "    [theme=dark] .colab-df-convert {\n",
              "      background-color: #3B4455;\n",
              "      fill: #D2E3FC;\n",
              "    }\n",
              "\n",
              "    [theme=dark] .colab-df-convert:hover {\n",
              "      background-color: #434B5C;\n",
              "      box-shadow: 0px 1px 3px 1px rgba(0, 0, 0, 0.15);\n",
              "      filter: drop-shadow(0px 1px 2px rgba(0, 0, 0, 0.3));\n",
              "      fill: #FFFFFF;\n",
              "    }\n",
              "  </style>\n",
              "\n",
              "      <script>\n",
              "        const buttonEl =\n",
              "          document.querySelector('#df-9a44ec28-f2d5-40b2-91b1-99ab7af9d6c5 button.colab-df-convert');\n",
              "        buttonEl.style.display =\n",
              "          google.colab.kernel.accessAllowed ? 'block' : 'none';\n",
              "\n",
              "        async function convertToInteractive(key) {\n",
              "          const element = document.querySelector('#df-9a44ec28-f2d5-40b2-91b1-99ab7af9d6c5');\n",
              "          const dataTable =\n",
              "            await google.colab.kernel.invokeFunction('convertToInteractive',\n",
              "                                                     [key], {});\n",
              "          if (!dataTable) return;\n",
              "\n",
              "          const docLinkHtml = 'Like what you see? Visit the ' +\n",
              "            '<a target=\"_blank\" href=https://colab.research.google.com/notebooks/data_table.ipynb>data table notebook</a>'\n",
              "            + ' to learn more about interactive tables.';\n",
              "          element.innerHTML = '';\n",
              "          dataTable['output_type'] = 'display_data';\n",
              "          await google.colab.output.renderOutput(dataTable, element);\n",
              "          const docLink = document.createElement('div');\n",
              "          docLink.innerHTML = docLinkHtml;\n",
              "          element.appendChild(docLink);\n",
              "        }\n",
              "      </script>\n",
              "    </div>\n",
              "  </div>\n",
              "  "
            ]
          },
          "metadata": {},
          "execution_count": 55
        }
      ]
    },
    {
      "cell_type": "code",
      "source": [
        "y.head()"
      ],
      "metadata": {
        "colab": {
          "base_uri": "https://localhost:8080/"
        },
        "id": "VOpQumIFzINg",
        "outputId": "fb9e4627-7815-4d4e-d3f9-2db321b1d4d0"
      },
      "execution_count": 56,
      "outputs": [
        {
          "output_type": "execute_result",
          "data": {
            "text/plain": [
              "Date\n",
              "2005-07-01    1.095518\n",
              "2005-08-01    1.127753\n",
              "2005-09-01    1.123852\n",
              "2005-10-01    1.113609\n",
              "2005-11-01    1.127429\n",
              "Name: Close, dtype: float64"
            ]
          },
          "metadata": {},
          "execution_count": 56
        }
      ]
    },
    {
      "cell_type": "markdown",
      "source": [
        "##**Train Test Spilit**"
      ],
      "metadata": {
        "id": "vnhr9twJzLki"
      }
    },
    {
      "cell_type": "code",
      "source": [
        "#Spilitting the DataSet into train and test set's\n",
        "\n",
        "X_train, X_test, y_train, y_test = train_test_split(X, y, test_size= 0.2, random_state=0)\n",
        "print('X_train: ',X_train.shape)\n",
        "print('X_test: ',X_test.shape)\n",
        "print('y_train: ',y_train.shape)\n",
        "print('y_test: ',y_test.shape)"
      ],
      "metadata": {
        "colab": {
          "base_uri": "https://localhost:8080/"
        },
        "id": "wA_Tc1KF0MX0",
        "outputId": "5ccc87e8-d971-4b9a-8a5e-b9818dd9780e"
      },
      "execution_count": 69,
      "outputs": [
        {
          "output_type": "stream",
          "name": "stdout",
          "text": [
            "X_train:  (148, 17)\n",
            "X_test:  (37, 17)\n",
            "y_train:  (148,)\n",
            "y_test:  (37,)\n"
          ]
        }
      ]
    },
    {
      "cell_type": "code",
      "source": [
        "#Creating DataFrames of train and test dataset\n",
        "train_df= pd.DataFrame(X_train,y_train)\n",
        "test_df= pd.DataFrame(10**y_test)\n",
        "test_df.rename(columns= {'Close': 'Actual Closing Price'}, inplace= True)"
      ],
      "metadata": {
        "id": "ky1m2Mpr2Vdm"
      },
      "execution_count": 77,
      "outputs": []
    },
    {
      "cell_type": "markdown",
      "source": [
        "#**Linear Regression**"
      ],
      "metadata": {
        "id": "CxNM5zCe0u5J"
      }
    },
    {
      "cell_type": "code",
      "source": [
        "#fitting the data into Regression model\n",
        "reg= LinearRegression().fit(X_train, y_train)"
      ],
      "metadata": {
        "id": "k6ch2EBh04kL"
      },
      "execution_count": 63,
      "outputs": []
    },
    {
      "cell_type": "code",
      "source": [
        "reg.score(X_train, y_train)"
      ],
      "metadata": {
        "colab": {
          "base_uri": "https://localhost:8080/"
        },
        "id": "LMQ9FwHg1AF9",
        "outputId": "431c5704-b4a4-4509-98b8-59dedba60e8c"
      },
      "execution_count": 65,
      "outputs": [
        {
          "output_type": "execute_result",
          "data": {
            "text/plain": [
              "0.9403650204419233"
            ]
          },
          "metadata": {},
          "execution_count": 65
        }
      ]
    },
    {
      "cell_type": "code",
      "source": [
        "reg.intercept_"
      ],
      "metadata": {
        "colab": {
          "base_uri": "https://localhost:8080/"
        },
        "id": "BoRnLz_g1CWk",
        "outputId": "58543a9f-af74-4877-a49b-95070f29f588"
      },
      "execution_count": 66,
      "outputs": [
        {
          "output_type": "execute_result",
          "data": {
            "text/plain": [
              "-58875444889.93402"
            ]
          },
          "metadata": {},
          "execution_count": 66
        }
      ]
    },
    {
      "cell_type": "code",
      "source": [
        "reg.coef_"
      ],
      "metadata": {
        "colab": {
          "base_uri": "https://localhost:8080/"
        },
        "id": "BFAmGQm41JBz",
        "outputId": "e07e0fa1-8cf0-4957-f673-8dde78d8b631"
      },
      "execution_count": 67,
      "outputs": [
        {
          "output_type": "execute_result",
          "data": {
            "text/plain": [
              "array([3.05309444e-01, 7.90575959e+12, 1.09921214e+13, 1.09921214e+13,\n",
              "       1.09921214e+13, 1.09921214e+13, 1.09921214e+13, 1.09921214e+13,\n",
              "       1.09921214e+13, 1.09921214e+13, 1.09921214e+13, 1.09921214e+13,\n",
              "       1.09921214e+13, 1.09921214e+13, 1.09921214e+13, 1.09921214e+13,\n",
              "       1.05553484e+13])"
            ]
          },
          "metadata": {},
          "execution_count": 67
        }
      ]
    },
    {
      "cell_type": "code",
      "source": [
        "#Predict y_test on the basis of train sets\n",
        "y_pred = reg.predict(X_test)\n",
        "print(\"Printed values of Y: \\n\",y_pred)"
      ],
      "metadata": {
        "colab": {
          "base_uri": "https://localhost:8080/"
        },
        "id": "NtT5XcU91Ouh",
        "outputId": "2c8f8560-2574-4cfb-a660-299ebd65a138"
      },
      "execution_count": 81,
      "outputs": [
        {
          "output_type": "stream",
          "name": "stdout",
          "text": [
            "Printed values of Y: \n",
            " [1.41558838 2.13433838 1.83746338 2.10699463 1.79840088 1.53277588\n",
            " 2.40777588 1.24371338 1.09527588 2.31011963 2.53668213 1.97808838\n",
            " 2.16949463 1.71246338 2.67730713 2.47027588 1.82965088 1.40386963\n",
            " 2.25152588 1.75933838 1.33746338 2.02105713 2.14996338 1.77886963\n",
            " 2.34918213 1.79840088 2.45074463 1.09527588 2.00152588 1.69293213\n",
            " 2.71636963 2.46636963 1.87652588 2.21246338 1.55621338 1.75152588\n",
            " 2.49371338]\n"
          ]
        }
      ]
    },
    {
      "cell_type": "code",
      "source": [
        "def evaluation_metrics(data):\n",
        "  MSE = mean_squared_error(y_test,data)\n",
        "  RMSE = np.sqrt(MSE)\n",
        "  r2 = r2_score(y_test,data)\n",
        "  adjusted_r2 = 1-(1-r2_score(y_test,data))*(X_test.shape[0]-1)/((X_test.shape[0]-X_test.shape[1]-1))\n",
        "  print(\"The model performance for test set:\")\n",
        "  print(\"--------------------------------------\")\n",
        "  print(\"Mean Squared Error: \",MSE)\n",
        "  print(\"Root Mean Squared Error: \",RMSE)\n",
        "  print(\"R2: \",r2)\n",
        "  print(\"Adjusted R2: \",adjusted_r2)\n",
        "  return"
      ],
      "metadata": {
        "id": "7PJneHS11S8r"
      },
      "execution_count": 85,
      "outputs": []
    },
    {
      "cell_type": "code",
      "source": [
        "evaluation_metrics(y_pred)"
      ],
      "metadata": {
        "colab": {
          "base_uri": "https://localhost:8080/"
        },
        "id": "GOfE-aeu4wcL",
        "outputId": "6904d4af-dac8-473f-90c0-7789988f65bd"
      },
      "execution_count": 86,
      "outputs": [
        {
          "output_type": "stream",
          "name": "stdout",
          "text": [
            "The model performance for test set:\n",
            "--------------------------------------\n",
            "Mean Squared Error:  0.008378716531125619\n",
            "Root Mean Squared Error:  0.09153532941507131\n",
            "R2:  0.9550214108859424\n",
            "Adjusted R2:  0.9147774100996803\n"
          ]
        }
      ]
    },
    {
      "cell_type": "code",
      "source": [
        "test_df['LR Predicted Closing Price'] = 10**y_pred\n",
        "test_df.head(3)"
      ],
      "metadata": {
        "colab": {
          "base_uri": "https://localhost:8080/",
          "height": 175
        },
        "id": "KiIjsVPc40AV",
        "outputId": "9311ad1d-0810-4025-df2b-476018a1d1ab"
      },
      "execution_count": 87,
      "outputs": [
        {
          "output_type": "execute_result",
          "data": {
            "text/plain": [
              "            Actual Closing Price  LR Predicted Closing Price\n",
              "Date                                                        \n",
              "2008-04-01                 34.06                   26.036846\n",
              "2015-12-01                145.23                  136.250586\n",
              "2019-12-01                 46.95                   68.780191"
            ],
            "text/html": [
              "\n",
              "  <div id=\"df-a77036ec-3b4a-45c4-936a-ec3f2de9d883\">\n",
              "    <div class=\"colab-df-container\">\n",
              "      <div>\n",
              "<style scoped>\n",
              "    .dataframe tbody tr th:only-of-type {\n",
              "        vertical-align: middle;\n",
              "    }\n",
              "\n",
              "    .dataframe tbody tr th {\n",
              "        vertical-align: top;\n",
              "    }\n",
              "\n",
              "    .dataframe thead th {\n",
              "        text-align: right;\n",
              "    }\n",
              "</style>\n",
              "<table border=\"1\" class=\"dataframe\">\n",
              "  <thead>\n",
              "    <tr style=\"text-align: right;\">\n",
              "      <th></th>\n",
              "      <th>Actual Closing Price</th>\n",
              "      <th>LR Predicted Closing Price</th>\n",
              "    </tr>\n",
              "    <tr>\n",
              "      <th>Date</th>\n",
              "      <th></th>\n",
              "      <th></th>\n",
              "    </tr>\n",
              "  </thead>\n",
              "  <tbody>\n",
              "    <tr>\n",
              "      <th>2008-04-01</th>\n",
              "      <td>34.06</td>\n",
              "      <td>26.036846</td>\n",
              "    </tr>\n",
              "    <tr>\n",
              "      <th>2015-12-01</th>\n",
              "      <td>145.23</td>\n",
              "      <td>136.250586</td>\n",
              "    </tr>\n",
              "    <tr>\n",
              "      <th>2019-12-01</th>\n",
              "      <td>46.95</td>\n",
              "      <td>68.780191</td>\n",
              "    </tr>\n",
              "  </tbody>\n",
              "</table>\n",
              "</div>\n",
              "      <button class=\"colab-df-convert\" onclick=\"convertToInteractive('df-a77036ec-3b4a-45c4-936a-ec3f2de9d883')\"\n",
              "              title=\"Convert this dataframe to an interactive table.\"\n",
              "              style=\"display:none;\">\n",
              "        \n",
              "  <svg xmlns=\"http://www.w3.org/2000/svg\" height=\"24px\"viewBox=\"0 0 24 24\"\n",
              "       width=\"24px\">\n",
              "    <path d=\"M0 0h24v24H0V0z\" fill=\"none\"/>\n",
              "    <path d=\"M18.56 5.44l.94 2.06.94-2.06 2.06-.94-2.06-.94-.94-2.06-.94 2.06-2.06.94zm-11 1L8.5 8.5l.94-2.06 2.06-.94-2.06-.94L8.5 2.5l-.94 2.06-2.06.94zm10 10l.94 2.06.94-2.06 2.06-.94-2.06-.94-.94-2.06-.94 2.06-2.06.94z\"/><path d=\"M17.41 7.96l-1.37-1.37c-.4-.4-.92-.59-1.43-.59-.52 0-1.04.2-1.43.59L10.3 9.45l-7.72 7.72c-.78.78-.78 2.05 0 2.83L4 21.41c.39.39.9.59 1.41.59.51 0 1.02-.2 1.41-.59l7.78-7.78 2.81-2.81c.8-.78.8-2.07 0-2.86zM5.41 20L4 18.59l7.72-7.72 1.47 1.35L5.41 20z\"/>\n",
              "  </svg>\n",
              "      </button>\n",
              "      \n",
              "  <style>\n",
              "    .colab-df-container {\n",
              "      display:flex;\n",
              "      flex-wrap:wrap;\n",
              "      gap: 12px;\n",
              "    }\n",
              "\n",
              "    .colab-df-convert {\n",
              "      background-color: #E8F0FE;\n",
              "      border: none;\n",
              "      border-radius: 50%;\n",
              "      cursor: pointer;\n",
              "      display: none;\n",
              "      fill: #1967D2;\n",
              "      height: 32px;\n",
              "      padding: 0 0 0 0;\n",
              "      width: 32px;\n",
              "    }\n",
              "\n",
              "    .colab-df-convert:hover {\n",
              "      background-color: #E2EBFA;\n",
              "      box-shadow: 0px 1px 2px rgba(60, 64, 67, 0.3), 0px 1px 3px 1px rgba(60, 64, 67, 0.15);\n",
              "      fill: #174EA6;\n",
              "    }\n",
              "\n",
              "    [theme=dark] .colab-df-convert {\n",
              "      background-color: #3B4455;\n",
              "      fill: #D2E3FC;\n",
              "    }\n",
              "\n",
              "    [theme=dark] .colab-df-convert:hover {\n",
              "      background-color: #434B5C;\n",
              "      box-shadow: 0px 1px 3px 1px rgba(0, 0, 0, 0.15);\n",
              "      filter: drop-shadow(0px 1px 2px rgba(0, 0, 0, 0.3));\n",
              "      fill: #FFFFFF;\n",
              "    }\n",
              "  </style>\n",
              "\n",
              "      <script>\n",
              "        const buttonEl =\n",
              "          document.querySelector('#df-a77036ec-3b4a-45c4-936a-ec3f2de9d883 button.colab-df-convert');\n",
              "        buttonEl.style.display =\n",
              "          google.colab.kernel.accessAllowed ? 'block' : 'none';\n",
              "\n",
              "        async function convertToInteractive(key) {\n",
              "          const element = document.querySelector('#df-a77036ec-3b4a-45c4-936a-ec3f2de9d883');\n",
              "          const dataTable =\n",
              "            await google.colab.kernel.invokeFunction('convertToInteractive',\n",
              "                                                     [key], {});\n",
              "          if (!dataTable) return;\n",
              "\n",
              "          const docLinkHtml = 'Like what you see? Visit the ' +\n",
              "            '<a target=\"_blank\" href=https://colab.research.google.com/notebooks/data_table.ipynb>data table notebook</a>'\n",
              "            + ' to learn more about interactive tables.';\n",
              "          element.innerHTML = '';\n",
              "          dataTable['output_type'] = 'display_data';\n",
              "          await google.colab.output.renderOutput(dataTable, element);\n",
              "          const docLink = document.createElement('div');\n",
              "          docLink.innerHTML = docLinkHtml;\n",
              "          element.appendChild(docLink);\n",
              "        }\n",
              "      </script>\n",
              "    </div>\n",
              "  </div>\n",
              "  "
            ]
          },
          "metadata": {},
          "execution_count": 87
        }
      ]
    },
    {
      "cell_type": "code",
      "source": [
        "#Mean Absolute Error\n",
        "MAE  = mean_absolute_percentage_error"
      ],
      "metadata": {
        "id": "Cp4FhGyT6Tl5"
      },
      "execution_count": 93,
      "outputs": []
    },
    {
      "cell_type": "code",
      "source": [
        "#Graph between Actual Close price and Predicted Price\n",
        "sns.set(style='whitegrid')\n",
        "test_df.plot(figsize = (15,7))\n",
        "plt.xlabel('Date',fontsize = 15)\n",
        "plt.ylabel('Price (₹)',fontsize = 15)\n",
        "plt.title('Actual Closing Price vs Predicted Price by Linear Regression with MAE :{:.2f}%'.format(MAE(10**y_test,10**y_pred)),fontweight = 'bold',fontsize = 14)\n",
        "plt.legend()\n",
        "plt.show()"
      ],
      "metadata": {
        "colab": {
          "base_uri": "https://localhost:8080/",
          "height": 442
        },
        "id": "JuU0dbUf5KP2",
        "outputId": "43f85e0d-fc27-4a91-bbf6-9b837e58c4f6"
      },
      "execution_count": 100,
      "outputs": [
        {
          "output_type": "display_data",
          "data": {
            "text/plain": [
              "<Figure size 1080x504 with 1 Axes>"
            ],
            "image/png": "[encoded data removed]"
          },
          "metadata": {}
        }
      ]
    },
    {
      "cell_type": "code",
      "source": [
        ""
      ],
      "metadata": {
        "id": "Jn5ajBUl5pjE"
      },
      "execution_count": null,
      "outputs": []
    }
  ],
  "metadata": {
    "colab": {
      "name": "Capstone Project on Yes Bank Stock Closing Price Prediction.ipynb",
      "provenance": [],
      "collapsed_sections": [],
      "mount_file_id": "1zgUOCrCcerbCXLkKhbBPSqCqlWS6SzJX",
      "authorship_tag": "ABX9TyNriZJz10KQ57bX74+bllDO",
      "include_colab_link": true
    },
    "kernelspec": {
      "display_name": "Python 3",
      "name": "python3"
    },
    "language_info": {
      "name": "python"
    }
  },
  "nbformat": 4,
  "nbformat_minor": 0
}